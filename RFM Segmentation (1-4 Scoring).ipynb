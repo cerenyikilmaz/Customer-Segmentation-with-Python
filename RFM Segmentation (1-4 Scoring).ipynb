{
 "cells": [
  {
   "cell_type": "code",
   "execution_count": 5,
   "id": "3fa20cf7",
   "metadata": {},
   "outputs": [],
   "source": [
    "import pandas as pd\n",
    "import numpy as np\n",
    "import datetime as dt\n",
    "import glob\n",
    "import os\n",
    "from pathlib import Path  \n",
    "import matplotlib.pyplot as plt\n",
    "import seaborn as sns\n",
    "import squarify\n",
    "import matplotlib as matplotlib\n",
    "import hashlib"
   ]
  },
  {
   "cell_type": "markdown",
   "id": "c492042c",
   "metadata": {},
   "source": [
    "## Data Import & Cleaning"
   ]
  },
  {
   "cell_type": "code",
   "execution_count": 6,
   "id": "154233d2",
   "metadata": {},
   "outputs": [],
   "source": [
    "df = pd.concat(map(pd.read_csv, glob.glob(\n",
    "    os.path.join('/Users/cerenyikilmaz/Desktop/RFM_Analyse/dataset', \"*2021.csv\"))))"
   ]
  },
  {
   "cell_type": "code",
   "execution_count": 7,
   "id": "c04c6422",
   "metadata": {},
   "outputs": [
    {
     "data": {
      "text/html": [
       "<div>\n",
       "<style scoped>\n",
       "    .dataframe tbody tr th:only-of-type {\n",
       "        vertical-align: middle;\n",
       "    }\n",
       "\n",
       "    .dataframe tbody tr th {\n",
       "        vertical-align: top;\n",
       "    }\n",
       "\n",
       "    .dataframe thead th {\n",
       "        text-align: right;\n",
       "    }\n",
       "</style>\n",
       "<table border=\"1\" class=\"dataframe\">\n",
       "  <thead>\n",
       "    <tr style=\"text-align: right;\">\n",
       "      <th></th>\n",
       "      <th>customer_id</th>\n",
       "      <th>item_id</th>\n",
       "      <th>item_name</th>\n",
       "      <th>unit_price</th>\n",
       "      <th>item_count</th>\n",
       "      <th>purchase_time</th>\n",
       "    </tr>\n",
       "  </thead>\n",
       "  <tbody>\n",
       "    <tr>\n",
       "      <th>0</th>\n",
       "      <td>6359890.0</td>\n",
       "      <td>386012549</td>\n",
       "      <td>Mekoraf 2,5 Metre Çelik Raf Profil 40x40 1,5 m...</td>\n",
       "      <td>105.90</td>\n",
       "      <td>1</td>\n",
       "      <td>2021-12-31 23:59:03</td>\n",
       "    </tr>\n",
       "    <tr>\n",
       "      <th>1</th>\n",
       "      <td>14996678.0</td>\n",
       "      <td>474835415</td>\n",
       "      <td>Intel Core i9-10980XE Extreme Edition 3 GHz LG...</td>\n",
       "      <td>17250.00</td>\n",
       "      <td>1</td>\n",
       "      <td>2021-12-31 23:58:57</td>\n",
       "    </tr>\n",
       "    <tr>\n",
       "      <th>2</th>\n",
       "      <td>11479470.0</td>\n",
       "      <td>505465829</td>\n",
       "      <td>7 Cm Yükseklikte Aralıklı Tahtalardan Yüksek M...</td>\n",
       "      <td>10.22</td>\n",
       "      <td>1</td>\n",
       "      <td>2021-12-31 23:58:25</td>\n",
       "    </tr>\n",
       "    <tr>\n",
       "      <th>3</th>\n",
       "      <td>8478960.0</td>\n",
       "      <td>520605618</td>\n",
       "      <td>Riddex Elektronik Fare ve Haşere Kovucu Cihaz</td>\n",
       "      <td>34.99</td>\n",
       "      <td>1</td>\n",
       "      <td>2021-12-31 23:58:13</td>\n",
       "    </tr>\n",
       "    <tr>\n",
       "      <th>4</th>\n",
       "      <td>27426979.0</td>\n",
       "      <td>504242650</td>\n",
       "      <td>Razer Gold 25 TL</td>\n",
       "      <td>25.00</td>\n",
       "      <td>1</td>\n",
       "      <td>2021-12-31 23:57:12</td>\n",
       "    </tr>\n",
       "  </tbody>\n",
       "</table>\n",
       "</div>"
      ],
      "text/plain": [
       "   customer_id    item_id                                          item_name  \\\n",
       "0    6359890.0  386012549  Mekoraf 2,5 Metre Çelik Raf Profil 40x40 1,5 m...   \n",
       "1   14996678.0  474835415  Intel Core i9-10980XE Extreme Edition 3 GHz LG...   \n",
       "2   11479470.0  505465829  7 Cm Yükseklikte Aralıklı Tahtalardan Yüksek M...   \n",
       "3    8478960.0  520605618      Riddex Elektronik Fare ve Haşere Kovucu Cihaz   \n",
       "4   27426979.0  504242650                                   Razer Gold 25 TL   \n",
       "\n",
       "   unit_price  item_count        purchase_time  \n",
       "0      105.90           1  2021-12-31 23:59:03  \n",
       "1    17250.00           1  2021-12-31 23:58:57  \n",
       "2       10.22           1  2021-12-31 23:58:25  \n",
       "3       34.99           1  2021-12-31 23:58:13  \n",
       "4       25.00           1  2021-12-31 23:57:12  "
      ]
     },
     "execution_count": 7,
     "metadata": {},
     "output_type": "execute_result"
    }
   ],
   "source": [
    "df.head()"
   ]
  },
  {
   "cell_type": "code",
   "execution_count": 8,
   "id": "b966610d",
   "metadata": {},
   "outputs": [
    {
     "name": "stdout",
     "output_type": "stream",
     "text": [
      "<class 'pandas.core.frame.DataFrame'>\n",
      "Int64Index: 16105820 entries, 0 to 1678921\n",
      "Data columns (total 6 columns):\n",
      " #   Column         Dtype  \n",
      "---  ------         -----  \n",
      " 0   customer_id    float64\n",
      " 1   item_id        int64  \n",
      " 2   item_name      object \n",
      " 3   unit_price     float64\n",
      " 4   item_count     int64  \n",
      " 5   purchase_time  object \n",
      "dtypes: float64(2), int64(2), object(2)\n",
      "memory usage: 860.1+ MB\n"
     ]
    }
   ],
   "source": [
    "df.info()"
   ]
  },
  {
   "cell_type": "code",
   "execution_count": 9,
   "id": "7210bf06",
   "metadata": {},
   "outputs": [
    {
     "data": {
      "text/plain": [
       "(16105820, 6)"
      ]
     },
     "execution_count": 9,
     "metadata": {},
     "output_type": "execute_result"
    }
   ],
   "source": [
    "df.shape"
   ]
  },
  {
   "cell_type": "code",
   "execution_count": 10,
   "id": "f57b972a",
   "metadata": {},
   "outputs": [
    {
     "data": {
      "text/plain": [
       "customer_id      406530\n",
       "item_id               0\n",
       "item_name             2\n",
       "unit_price            0\n",
       "item_count            0\n",
       "purchase_time         0\n",
       "dtype: int64"
      ]
     },
     "execution_count": 10,
     "metadata": {},
     "output_type": "execute_result"
    }
   ],
   "source": [
    "df.isnull().sum()"
   ]
  },
  {
   "cell_type": "code",
   "execution_count": 11,
   "id": "c0b745d5",
   "metadata": {},
   "outputs": [],
   "source": [
    "# dropping null values\n",
    "df = df.dropna(axis=0, how=\"any\", thresh=None, subset=None, inplace=False)"
   ]
  },
  {
   "cell_type": "code",
   "execution_count": 12,
   "id": "b411a6da",
   "metadata": {},
   "outputs": [],
   "source": [
    "# data-type changes\n",
    "df[\"customer_id\"] = df[\"customer_id\"].astype('str')\n",
    "df[\"item_id\"] = df[\"item_id\"].astype('str')\n",
    "df['purchase_time'] = pd.to_datetime(df['purchase_time'])"
   ]
  },
  {
   "cell_type": "code",
   "execution_count": 13,
   "id": "1cc731f8",
   "metadata": {},
   "outputs": [
    {
     "name": "stdout",
     "output_type": "stream",
     "text": [
      "<class 'pandas.core.frame.DataFrame'>\n",
      "Int64Index: 15699288 entries, 0 to 1678921\n",
      "Data columns (total 6 columns):\n",
      " #   Column         Dtype         \n",
      "---  ------         -----         \n",
      " 0   customer_id    object        \n",
      " 1   item_id        object        \n",
      " 2   item_name      object        \n",
      " 3   unit_price     float64       \n",
      " 4   item_count     int64         \n",
      " 5   purchase_time  datetime64[ns]\n",
      "dtypes: datetime64[ns](1), float64(1), int64(1), object(3)\n",
      "memory usage: 838.4+ MB\n"
     ]
    }
   ],
   "source": [
    "df.info()"
   ]
  },
  {
   "cell_type": "code",
   "execution_count": 14,
   "id": "0072efc3",
   "metadata": {},
   "outputs": [],
   "source": [
    "# I'm deleting the .0's in customer_id\n",
    "df['customer_id']=df['customer_id'].str[:-2]"
   ]
  },
  {
   "cell_type": "code",
   "execution_count": 15,
   "id": "8682c80c",
   "metadata": {},
   "outputs": [
    {
     "data": {
      "text/html": [
       "<div>\n",
       "<style scoped>\n",
       "    .dataframe tbody tr th:only-of-type {\n",
       "        vertical-align: middle;\n",
       "    }\n",
       "\n",
       "    .dataframe tbody tr th {\n",
       "        vertical-align: top;\n",
       "    }\n",
       "\n",
       "    .dataframe thead th {\n",
       "        text-align: right;\n",
       "    }\n",
       "</style>\n",
       "<table border=\"1\" class=\"dataframe\">\n",
       "  <thead>\n",
       "    <tr style=\"text-align: right;\">\n",
       "      <th></th>\n",
       "      <th>customer_id</th>\n",
       "      <th>item_id</th>\n",
       "      <th>item_name</th>\n",
       "      <th>unit_price</th>\n",
       "      <th>item_count</th>\n",
       "      <th>purchase_time</th>\n",
       "    </tr>\n",
       "  </thead>\n",
       "  <tbody>\n",
       "    <tr>\n",
       "      <th>0</th>\n",
       "      <td>6359890</td>\n",
       "      <td>386012549</td>\n",
       "      <td>Mekoraf 2,5 Metre Çelik Raf Profil 40x40 1,5 m...</td>\n",
       "      <td>105.90</td>\n",
       "      <td>1</td>\n",
       "      <td>2021-12-31 23:59:03</td>\n",
       "    </tr>\n",
       "    <tr>\n",
       "      <th>1</th>\n",
       "      <td>14996678</td>\n",
       "      <td>474835415</td>\n",
       "      <td>Intel Core i9-10980XE Extreme Edition 3 GHz LG...</td>\n",
       "      <td>17250.00</td>\n",
       "      <td>1</td>\n",
       "      <td>2021-12-31 23:58:57</td>\n",
       "    </tr>\n",
       "    <tr>\n",
       "      <th>2</th>\n",
       "      <td>11479470</td>\n",
       "      <td>505465829</td>\n",
       "      <td>7 Cm Yükseklikte Aralıklı Tahtalardan Yüksek M...</td>\n",
       "      <td>10.22</td>\n",
       "      <td>1</td>\n",
       "      <td>2021-12-31 23:58:25</td>\n",
       "    </tr>\n",
       "    <tr>\n",
       "      <th>3</th>\n",
       "      <td>8478960</td>\n",
       "      <td>520605618</td>\n",
       "      <td>Riddex Elektronik Fare ve Haşere Kovucu Cihaz</td>\n",
       "      <td>34.99</td>\n",
       "      <td>1</td>\n",
       "      <td>2021-12-31 23:58:13</td>\n",
       "    </tr>\n",
       "    <tr>\n",
       "      <th>4</th>\n",
       "      <td>27426979</td>\n",
       "      <td>504242650</td>\n",
       "      <td>Razer Gold 25 TL</td>\n",
       "      <td>25.00</td>\n",
       "      <td>1</td>\n",
       "      <td>2021-12-31 23:57:12</td>\n",
       "    </tr>\n",
       "  </tbody>\n",
       "</table>\n",
       "</div>"
      ],
      "text/plain": [
       "  customer_id    item_id                                          item_name  \\\n",
       "0     6359890  386012549  Mekoraf 2,5 Metre Çelik Raf Profil 40x40 1,5 m...   \n",
       "1    14996678  474835415  Intel Core i9-10980XE Extreme Edition 3 GHz LG...   \n",
       "2    11479470  505465829  7 Cm Yükseklikte Aralıklı Tahtalardan Yüksek M...   \n",
       "3     8478960  520605618      Riddex Elektronik Fare ve Haşere Kovucu Cihaz   \n",
       "4    27426979  504242650                                   Razer Gold 25 TL   \n",
       "\n",
       "   unit_price  item_count       purchase_time  \n",
       "0      105.90           1 2021-12-31 23:59:03  \n",
       "1    17250.00           1 2021-12-31 23:58:57  \n",
       "2       10.22           1 2021-12-31 23:58:25  \n",
       "3       34.99           1 2021-12-31 23:58:13  \n",
       "4       25.00           1 2021-12-31 23:57:12  "
      ]
     },
     "execution_count": 15,
     "metadata": {},
     "output_type": "execute_result"
    }
   ],
   "source": [
    "df.head()"
   ]
  },
  {
   "cell_type": "code",
   "execution_count": 16,
   "id": "eb237f3f",
   "metadata": {},
   "outputs": [
    {
     "data": {
      "text/plain": [
       "(15699288, 6)"
      ]
     },
     "execution_count": 16,
     "metadata": {},
     "output_type": "execute_result"
    }
   ],
   "source": [
    "df.shape"
   ]
  },
  {
   "cell_type": "code",
   "execution_count": 17,
   "id": "5b608b2d",
   "metadata": {},
   "outputs": [],
   "source": [
    "# dropping price value later than 0\n",
    "index_names = df[ df['unit_price'] <= 0 ].index\n",
    "df.drop(index_names, inplace = True)"
   ]
  },
  {
   "cell_type": "code",
   "execution_count": 18,
   "id": "e1507ae4",
   "metadata": {},
   "outputs": [],
   "source": [
    "# While examining the dataset, we see that there are too many products named “Uçak Bileti”, \n",
    "# but we see that these products contain illogical values in terms of unit_price. \n",
    "# For this reason, we clear the \"Uçak Bileti\" products from the data set to avoid data inconsistency.\n",
    "index_names = df[ df['item_name'] == \"Uçak Bileti\" ].index\n",
    "df.drop(index_names, inplace = True)"
   ]
  },
  {
   "cell_type": "markdown",
   "id": "e6a22908",
   "metadata": {},
   "source": [
    "## Data Preparation & Descriptive Statistics "
   ]
  },
  {
   "cell_type": "code",
   "execution_count": 19,
   "id": "3e659f57",
   "metadata": {},
   "outputs": [
    {
     "data": {
      "text/plain": [
       "(15568066, 6)"
      ]
     },
     "execution_count": 19,
     "metadata": {},
     "output_type": "execute_result"
    }
   ],
   "source": [
    "df.shape"
   ]
  },
  {
   "cell_type": "code",
   "execution_count": 20,
   "id": "484d89e2",
   "metadata": {},
   "outputs": [
    {
     "data": {
      "text/plain": [
       "2838497"
      ]
     },
     "execution_count": 20,
     "metadata": {},
     "output_type": "execute_result"
    }
   ],
   "source": [
    "df[\"customer_id\"].nunique()"
   ]
  },
  {
   "cell_type": "code",
   "execution_count": 21,
   "id": "c434b06d",
   "metadata": {},
   "outputs": [
    {
     "data": {
      "text/plain": [
       "3635505"
      ]
     },
     "execution_count": 21,
     "metadata": {},
     "output_type": "execute_result"
    }
   ],
   "source": [
    "df[\"item_id\"].nunique()"
   ]
  },
  {
   "cell_type": "code",
   "execution_count": 22,
   "id": "f6f76f4e",
   "metadata": {},
   "outputs": [
    {
     "data": {
      "text/plain": [
       "15568066"
      ]
     },
     "execution_count": 22,
     "metadata": {},
     "output_type": "execute_result"
    }
   ],
   "source": [
    "df[\"item_id\"].count()"
   ]
  },
  {
   "cell_type": "code",
   "execution_count": 23,
   "id": "aa90e64e",
   "metadata": {},
   "outputs": [
    {
     "data": {
      "image/png": "[encoded data removed]",
      "text/plain": [
       "<Figure size 936x112.32 with 1 Axes>"
      ]
     },
     "metadata": {
      "needs_background": "light"
     },
     "output_type": "display_data"
    }
   ],
   "source": [
    "def desc_stats(dataframe):\n",
    "    desc = dataframe.describe().T\n",
    "    desc_df = pd.DataFrame(index= dataframe.columns, \n",
    "                           columns= desc.columns,\n",
    "                           data= desc)\n",
    "    \n",
    "    f,ax = plt.subplots(figsize=(13,\n",
    "                                 desc_df.shape[0]*0.78))\n",
    "    sns.heatmap(desc_df,\n",
    "                annot=True,\n",
    "                cmap = \"Wistia\",\n",
    "                fmt= '.2f',\n",
    "                ax=ax,\n",
    "                linecolor='white',\n",
    "                linewidths = 1.3,\n",
    "                cbar = False,\n",
    "                annot_kws={\"size\": 11})\n",
    "    plt.xticks(size = 11)\n",
    "    plt.yticks(size = 11,\n",
    "               rotation = 0)\n",
    "    plt.title(\"Descriptive Statistics\", size = 14)\n",
    "    plt.show()\n",
    "    \n",
    "desc_stats(df[[col for col in df.columns if (df[col].dtype == 'int' or df[col].dtype == 'float') ]])"
   ]
  },
  {
   "cell_type": "code",
   "execution_count": 24,
   "id": "5713ff59",
   "metadata": {},
   "outputs": [
    {
     "data": {
      "text/plain": [
       "Xiaomi Mi TV Stick Android TV Medya Oynatıcı                                14351\n",
       "Enjoy Cat Food Tavuklu Yetişkin Kedi Maması 15 KG                           13147\n",
       "Apple iPhone 11 64 GB (Apple Türkiye Garantili)                             11543\n",
       "Xiaomi Mi Wifi Pro Türkiye Versiyon 300 Mbps 2.4 Ghz Sinyal Güçlendirici    10606\n",
       "Artdeco Akrilik Boya 140 ml Renk Seçmeli Canlı ve Pastel                     9500\n",
       "                                                                            ...  \n",
       "RED APPLE SULU BOYA FIRÇASI NO:5                                                1\n",
       "BRONS SULU BOYA FIRÇA NO 00                                                     1\n",
       "Metal Çeki Demiri 1/10                                                          1\n",
       "Mikro Renkli Simli Yapıştırıcı 6 lı Gg-1242                                     1\n",
       "Keskin Color A5 Haftalık Ajanda - Pond Lily                                     1\n",
       "Name: item_name, Length: 3190323, dtype: int64"
      ]
     },
     "execution_count": 24,
     "metadata": {},
     "output_type": "execute_result"
    }
   ],
   "source": [
    "df[\"item_name\"].value_counts()"
   ]
  },
  {
   "cell_type": "code",
   "execution_count": 25,
   "id": "2d66ecb2",
   "metadata": {},
   "outputs": [
    {
     "data": {
      "text/html": [
       "<div>\n",
       "<style scoped>\n",
       "    .dataframe tbody tr th:only-of-type {\n",
       "        vertical-align: middle;\n",
       "    }\n",
       "\n",
       "    .dataframe tbody tr th {\n",
       "        vertical-align: top;\n",
       "    }\n",
       "\n",
       "    .dataframe thead th {\n",
       "        text-align: right;\n",
       "    }\n",
       "</style>\n",
       "<table border=\"1\" class=\"dataframe\">\n",
       "  <thead>\n",
       "    <tr style=\"text-align: right;\">\n",
       "      <th></th>\n",
       "      <th>item_count</th>\n",
       "    </tr>\n",
       "    <tr>\n",
       "      <th>item_name</th>\n",
       "      <th></th>\n",
       "    </tr>\n",
       "  </thead>\n",
       "  <tbody>\n",
       "    <tr>\n",
       "      <th>Damlama Sulama Kurtağızlı Tüm Ek Parçalar 16mm-20mm Damlama Set</th>\n",
       "      <td>51011</td>\n",
       "    </tr>\n",
       "    <tr>\n",
       "      <th>Demaks Mat Siyah Lüks Mobilya Dolap Çekmece Kulpları -Tüm Ölçüler</th>\n",
       "      <td>29109</td>\n",
       "    </tr>\n",
       "    <tr>\n",
       "      <th>DAMLAMA SULAMA YEŞİL DAMLATICI DEBİ AYARLI MEME</th>\n",
       "      <td>21625</td>\n",
       "    </tr>\n",
       "    <tr>\n",
       "      <th>DAMLAMA SULAMA KIRMIZI DAMLATICI DEBİ AYARLI MEME</th>\n",
       "      <td>21069</td>\n",
       "    </tr>\n",
       "    <tr>\n",
       "      <th>DAMLAMA SULAMA EK PARÇALAR (16mm.-20mm.)</th>\n",
       "      <td>19747</td>\n",
       "    </tr>\n",
       "  </tbody>\n",
       "</table>\n",
       "</div>"
      ],
      "text/plain": [
       "                                                    item_count\n",
       "item_name                                                     \n",
       "Damlama Sulama Kurtağızlı Tüm Ek Parçalar 16mm-...       51011\n",
       "Demaks Mat Siyah Lüks Mobilya Dolap Çekmece Kul...       29109\n",
       "DAMLAMA SULAMA YEŞİL DAMLATICI DEBİ AYARLI MEME          21625\n",
       "DAMLAMA SULAMA KIRMIZI DAMLATICI DEBİ AYARLI MEME        21069\n",
       "DAMLAMA SULAMA EK PARÇALAR (16mm.-20mm.)                 19747"
      ]
     },
     "execution_count": 25,
     "metadata": {},
     "output_type": "execute_result"
    }
   ],
   "source": [
    "# Most purchased 5 items\n",
    "df.groupby(\"item_name\").agg({\"item_count\":\"sum\"}).sort_values(\"item_count\", ascending=False).head(5)"
   ]
  },
  {
   "cell_type": "code",
   "execution_count": 26,
   "id": "680c378f",
   "metadata": {},
   "outputs": [
    {
     "data": {
      "text/html": [
       "<div>\n",
       "<style scoped>\n",
       "    .dataframe tbody tr th:only-of-type {\n",
       "        vertical-align: middle;\n",
       "    }\n",
       "\n",
       "    .dataframe tbody tr th {\n",
       "        vertical-align: top;\n",
       "    }\n",
       "\n",
       "    .dataframe thead th {\n",
       "        text-align: right;\n",
       "    }\n",
       "</style>\n",
       "<table border=\"1\" class=\"dataframe\">\n",
       "  <thead>\n",
       "    <tr style=\"text-align: right;\">\n",
       "      <th></th>\n",
       "      <th>item_count</th>\n",
       "    </tr>\n",
       "    <tr>\n",
       "      <th>item_name</th>\n",
       "      <th></th>\n",
       "    </tr>\n",
       "  </thead>\n",
       "  <tbody>\n",
       "    <tr>\n",
       "      <th>Kahramanların Görevi/Morgan Rice</th>\n",
       "      <td>1</td>\n",
       "    </tr>\n",
       "    <tr>\n",
       "      <th>Kahramanlar Çelik Yağmur Orta Boy Çelik Çaydanlık Kırmızı</th>\n",
       "      <td>1</td>\n",
       "    </tr>\n",
       "    <tr>\n",
       "      <th>Kahramanlar Çelik Yağmur Mega Boy Çaydanlık Takımı</th>\n",
       "      <td>1</td>\n",
       "    </tr>\n",
       "    <tr>\n",
       "      <th>Kahramanlar Çelik Sırma 20x6 cm Kısa Tencere</th>\n",
       "      <td>1</td>\n",
       "    </tr>\n",
       "    <tr>\n",
       "      <th>🧿 Metal Sibop Kapağı // Anahtarlık Hediyeli // Logolu</th>\n",
       "      <td>1</td>\n",
       "    </tr>\n",
       "  </tbody>\n",
       "</table>\n",
       "</div>"
      ],
      "text/plain": [
       "                                                    item_count\n",
       "item_name                                                     \n",
       "Kahramanların Görevi/Morgan Rice                             1\n",
       "Kahramanlar Çelik Yağmur Orta Boy Çelik Çaydanl...           1\n",
       "Kahramanlar Çelik Yağmur Mega Boy Çaydanlık Takımı           1\n",
       "Kahramanlar Çelik Sırma 20x6 cm Kısa Tencere                 1\n",
       "🧿 Metal Sibop Kapağı // Anahtarlık Hediyeli // ...           1"
      ]
     },
     "execution_count": 26,
     "metadata": {},
     "output_type": "execute_result"
    }
   ],
   "source": [
    "# Least purchased 5 items\n",
    "df.groupby(\"item_name\").agg({\"item_count\":\"sum\"}).sort_values(\"item_count\", ascending=False).tail(5)"
   ]
  },
  {
   "cell_type": "code",
   "execution_count": 27,
   "id": "6e23d9a2",
   "metadata": {},
   "outputs": [],
   "source": [
    "# I use the customer_id and purchase_time variables for this. \n",
    "# If there are values for a customer_id with exactly the same purchase_time, \n",
    "# the invoice number generated for them will be the same because they were purchased in the same cart.\n",
    "df = df.copy()\n",
    "key_combination = ['customer_id', 'purchase_time']\n",
    "df['invoice_number'] = list(map(lambda x: hashlib.sha1('-'.join([str(col_value) for col_value in x])\n",
    "                                                      .encode('utf-8')).hexdigest(), df[key_combination].values))"
   ]
  },
  {
   "cell_type": "code",
   "execution_count": 28,
   "id": "1f18d2d2",
   "metadata": {},
   "outputs": [
    {
     "data": {
      "text/html": [
       "<div>\n",
       "<style scoped>\n",
       "    .dataframe tbody tr th:only-of-type {\n",
       "        vertical-align: middle;\n",
       "    }\n",
       "\n",
       "    .dataframe tbody tr th {\n",
       "        vertical-align: top;\n",
       "    }\n",
       "\n",
       "    .dataframe thead th {\n",
       "        text-align: right;\n",
       "    }\n",
       "</style>\n",
       "<table border=\"1\" class=\"dataframe\">\n",
       "  <thead>\n",
       "    <tr style=\"text-align: right;\">\n",
       "      <th></th>\n",
       "      <th>customer_id</th>\n",
       "      <th>item_id</th>\n",
       "      <th>item_name</th>\n",
       "      <th>unit_price</th>\n",
       "      <th>item_count</th>\n",
       "      <th>purchase_time</th>\n",
       "      <th>invoice_number</th>\n",
       "    </tr>\n",
       "  </thead>\n",
       "  <tbody>\n",
       "    <tr>\n",
       "      <th>0</th>\n",
       "      <td>6359890</td>\n",
       "      <td>386012549</td>\n",
       "      <td>Mekoraf 2,5 Metre Çelik Raf Profil 40x40 1,5 m...</td>\n",
       "      <td>105.90</td>\n",
       "      <td>1</td>\n",
       "      <td>2021-12-31 23:59:03</td>\n",
       "      <td>8ee5aa0bf0fb31da5c72025b259fff1883a3ffe0</td>\n",
       "    </tr>\n",
       "    <tr>\n",
       "      <th>1</th>\n",
       "      <td>14996678</td>\n",
       "      <td>474835415</td>\n",
       "      <td>Intel Core i9-10980XE Extreme Edition 3 GHz LG...</td>\n",
       "      <td>17250.00</td>\n",
       "      <td>1</td>\n",
       "      <td>2021-12-31 23:58:57</td>\n",
       "      <td>b65e6fb1c36ef1bf3aa26874927c2677627d236a</td>\n",
       "    </tr>\n",
       "    <tr>\n",
       "      <th>2</th>\n",
       "      <td>11479470</td>\n",
       "      <td>505465829</td>\n",
       "      <td>7 Cm Yükseklikte Aralıklı Tahtalardan Yüksek M...</td>\n",
       "      <td>10.22</td>\n",
       "      <td>1</td>\n",
       "      <td>2021-12-31 23:58:25</td>\n",
       "      <td>d04b373e7d157188f8200350d77f54d6b9dc4f5c</td>\n",
       "    </tr>\n",
       "    <tr>\n",
       "      <th>3</th>\n",
       "      <td>8478960</td>\n",
       "      <td>520605618</td>\n",
       "      <td>Riddex Elektronik Fare ve Haşere Kovucu Cihaz</td>\n",
       "      <td>34.99</td>\n",
       "      <td>1</td>\n",
       "      <td>2021-12-31 23:58:13</td>\n",
       "      <td>7d8efca99333b32f09d95f0c4e45b1bb920fb220</td>\n",
       "    </tr>\n",
       "    <tr>\n",
       "      <th>4</th>\n",
       "      <td>27426979</td>\n",
       "      <td>504242650</td>\n",
       "      <td>Razer Gold 25 TL</td>\n",
       "      <td>25.00</td>\n",
       "      <td>1</td>\n",
       "      <td>2021-12-31 23:57:12</td>\n",
       "      <td>a71f62a5f8a8407fedb8da3145408c47c6874cc1</td>\n",
       "    </tr>\n",
       "    <tr>\n",
       "      <th>5</th>\n",
       "      <td>15474141</td>\n",
       "      <td>231406130</td>\n",
       "      <td>2 ADET KALİTELİ JAK DÖNÜŞTÜRÜCÜ-İNCE UCU KALIN...</td>\n",
       "      <td>66.75</td>\n",
       "      <td>1</td>\n",
       "      <td>2021-12-31 23:57:03</td>\n",
       "      <td>d8c69ed81b7faf89f86f77903e89507502e39054</td>\n",
       "    </tr>\n",
       "    <tr>\n",
       "      <th>6</th>\n",
       "      <td>15474141</td>\n",
       "      <td>521060643</td>\n",
       "      <td>Philips TAH4105BK/00 Mikrofonlu Kulak Üstü Kul...</td>\n",
       "      <td>319.00</td>\n",
       "      <td>1</td>\n",
       "      <td>2021-12-31 23:57:03</td>\n",
       "      <td>d8c69ed81b7faf89f86f77903e89507502e39054</td>\n",
       "    </tr>\n",
       "    <tr>\n",
       "      <th>7</th>\n",
       "      <td>17893403</td>\n",
       "      <td>476325353</td>\n",
       "      <td>Mavi Alpaka Bay Önlük-Öğrenci , Öğretmen,Mesle...</td>\n",
       "      <td>145.00</td>\n",
       "      <td>1</td>\n",
       "      <td>2021-12-31 23:56:58</td>\n",
       "      <td>ae7341cd0afe5c597831e3fb7dabb509d27ad7ff</td>\n",
       "    </tr>\n",
       "    <tr>\n",
       "      <th>8</th>\n",
       "      <td>17893403</td>\n",
       "      <td>397094212</td>\n",
       "      <td>Kars Bakkaliyesi Eski Kaşar 950 G</td>\n",
       "      <td>227.98</td>\n",
       "      <td>2</td>\n",
       "      <td>2021-12-31 23:56:58</td>\n",
       "      <td>ae7341cd0afe5c597831e3fb7dabb509d27ad7ff</td>\n",
       "    </tr>\n",
       "    <tr>\n",
       "      <th>9</th>\n",
       "      <td>17893403</td>\n",
       "      <td>446224641</td>\n",
       "      <td>Sanbe 132 S 4906 Platin Kız Çocuk İçi Kürklü Bot</td>\n",
       "      <td>194.00</td>\n",
       "      <td>1</td>\n",
       "      <td>2021-12-31 23:56:58</td>\n",
       "      <td>ae7341cd0afe5c597831e3fb7dabb509d27ad7ff</td>\n",
       "    </tr>\n",
       "  </tbody>\n",
       "</table>\n",
       "</div>"
      ],
      "text/plain": [
       "  customer_id    item_id                                          item_name  \\\n",
       "0     6359890  386012549  Mekoraf 2,5 Metre Çelik Raf Profil 40x40 1,5 m...   \n",
       "1    14996678  474835415  Intel Core i9-10980XE Extreme Edition 3 GHz LG...   \n",
       "2    11479470  505465829  7 Cm Yükseklikte Aralıklı Tahtalardan Yüksek M...   \n",
       "3     8478960  520605618      Riddex Elektronik Fare ve Haşere Kovucu Cihaz   \n",
       "4    27426979  504242650                                   Razer Gold 25 TL   \n",
       "5    15474141  231406130  2 ADET KALİTELİ JAK DÖNÜŞTÜRÜCÜ-İNCE UCU KALIN...   \n",
       "6    15474141  521060643  Philips TAH4105BK/00 Mikrofonlu Kulak Üstü Kul...   \n",
       "7    17893403  476325353  Mavi Alpaka Bay Önlük-Öğrenci , Öğretmen,Mesle...   \n",
       "8    17893403  397094212                  Kars Bakkaliyesi Eski Kaşar 950 G   \n",
       "9    17893403  446224641   Sanbe 132 S 4906 Platin Kız Çocuk İçi Kürklü Bot   \n",
       "\n",
       "   unit_price  item_count       purchase_time  \\\n",
       "0      105.90           1 2021-12-31 23:59:03   \n",
       "1    17250.00           1 2021-12-31 23:58:57   \n",
       "2       10.22           1 2021-12-31 23:58:25   \n",
       "3       34.99           1 2021-12-31 23:58:13   \n",
       "4       25.00           1 2021-12-31 23:57:12   \n",
       "5       66.75           1 2021-12-31 23:57:03   \n",
       "6      319.00           1 2021-12-31 23:57:03   \n",
       "7      145.00           1 2021-12-31 23:56:58   \n",
       "8      227.98           2 2021-12-31 23:56:58   \n",
       "9      194.00           1 2021-12-31 23:56:58   \n",
       "\n",
       "                             invoice_number  \n",
       "0  8ee5aa0bf0fb31da5c72025b259fff1883a3ffe0  \n",
       "1  b65e6fb1c36ef1bf3aa26874927c2677627d236a  \n",
       "2  d04b373e7d157188f8200350d77f54d6b9dc4f5c  \n",
       "3  7d8efca99333b32f09d95f0c4e45b1bb920fb220  \n",
       "4  a71f62a5f8a8407fedb8da3145408c47c6874cc1  \n",
       "5  d8c69ed81b7faf89f86f77903e89507502e39054  \n",
       "6  d8c69ed81b7faf89f86f77903e89507502e39054  \n",
       "7  ae7341cd0afe5c597831e3fb7dabb509d27ad7ff  \n",
       "8  ae7341cd0afe5c597831e3fb7dabb509d27ad7ff  \n",
       "9  ae7341cd0afe5c597831e3fb7dabb509d27ad7ff  "
      ]
     },
     "execution_count": 28,
     "metadata": {},
     "output_type": "execute_result"
    }
   ],
   "source": [
    "df.head(10)"
   ]
  },
  {
   "cell_type": "code",
   "execution_count": 29,
   "id": "caa8464c",
   "metadata": {},
   "outputs": [
    {
     "data": {
      "text/plain": [
       "10958403"
      ]
     },
     "execution_count": 29,
     "metadata": {},
     "output_type": "execute_result"
    }
   ],
   "source": [
    "# Unique transaction count\n",
    "df[\"invoice_number\"].nunique()"
   ]
  },
  {
   "cell_type": "code",
   "execution_count": 30,
   "id": "3d78f0a1",
   "metadata": {},
   "outputs": [],
   "source": [
    "# How much money was spent per transaction\n",
    "# I'm using the item_count and unit_price variables in my dataset to find this out.\n",
    "df[\"total_price\"] = df[\"item_count\"] * df[\"unit_price\"]"
   ]
  },
  {
   "cell_type": "code",
   "execution_count": 31,
   "id": "8a8c1d35",
   "metadata": {},
   "outputs": [
    {
     "data": {
      "text/html": [
       "<div>\n",
       "<style scoped>\n",
       "    .dataframe tbody tr th:only-of-type {\n",
       "        vertical-align: middle;\n",
       "    }\n",
       "\n",
       "    .dataframe tbody tr th {\n",
       "        vertical-align: top;\n",
       "    }\n",
       "\n",
       "    .dataframe thead th {\n",
       "        text-align: right;\n",
       "    }\n",
       "</style>\n",
       "<table border=\"1\" class=\"dataframe\">\n",
       "  <thead>\n",
       "    <tr style=\"text-align: right;\">\n",
       "      <th></th>\n",
       "      <th>total_price</th>\n",
       "    </tr>\n",
       "    <tr>\n",
       "      <th>invoice_number</th>\n",
       "      <th></th>\n",
       "    </tr>\n",
       "  </thead>\n",
       "  <tbody>\n",
       "    <tr>\n",
       "      <th>2cc11788d9b777380f47f6a835a01670eddb9b37</th>\n",
       "      <td>11800915.55</td>\n",
       "    </tr>\n",
       "    <tr>\n",
       "      <th>aa1def46326573f96c8c8771daa1d9cc06b48d7f</th>\n",
       "      <td>8249375.00</td>\n",
       "    </tr>\n",
       "    <tr>\n",
       "      <th>b158901b0a6d46e2734a8d4b0c5877fa6b545f2e</th>\n",
       "      <td>7457741.22</td>\n",
       "    </tr>\n",
       "    <tr>\n",
       "      <th>f62ab70ad78f747c69db12146dea5aa885df9aca</th>\n",
       "      <td>7130800.00</td>\n",
       "    </tr>\n",
       "    <tr>\n",
       "      <th>b887b2031b7922e17ea3f43404d36bc49e2b7c9a</th>\n",
       "      <td>5661000.00</td>\n",
       "    </tr>\n",
       "  </tbody>\n",
       "</table>\n",
       "</div>"
      ],
      "text/plain": [
       "                                          total_price\n",
       "invoice_number                                       \n",
       "2cc11788d9b777380f47f6a835a01670eddb9b37  11800915.55\n",
       "aa1def46326573f96c8c8771daa1d9cc06b48d7f   8249375.00\n",
       "b158901b0a6d46e2734a8d4b0c5877fa6b545f2e   7457741.22\n",
       "f62ab70ad78f747c69db12146dea5aa885df9aca   7130800.00\n",
       "b887b2031b7922e17ea3f43404d36bc49e2b7c9a   5661000.00"
      ]
     },
     "execution_count": 31,
     "metadata": {},
     "output_type": "execute_result"
    }
   ],
   "source": [
    "df.groupby(\"invoice_number\").agg({\"total_price\":\"sum\"}).sort_values(\"total_price\", ascending = False).head(5)"
   ]
  },
  {
   "cell_type": "code",
   "execution_count": 32,
   "id": "a1632b19",
   "metadata": {},
   "outputs": [
    {
     "data": {
      "text/html": [
       "<div>\n",
       "<style scoped>\n",
       "    .dataframe tbody tr th:only-of-type {\n",
       "        vertical-align: middle;\n",
       "    }\n",
       "\n",
       "    .dataframe tbody tr th {\n",
       "        vertical-align: top;\n",
       "    }\n",
       "\n",
       "    .dataframe thead th {\n",
       "        text-align: right;\n",
       "    }\n",
       "</style>\n",
       "<table border=\"1\" class=\"dataframe\">\n",
       "  <thead>\n",
       "    <tr style=\"text-align: right;\">\n",
       "      <th></th>\n",
       "      <th>unit_price</th>\n",
       "    </tr>\n",
       "    <tr>\n",
       "      <th>item_name</th>\n",
       "      <th></th>\n",
       "    </tr>\n",
       "  </thead>\n",
       "  <tbody>\n",
       "    <tr>\n",
       "      <th>PNY NVIDIA Quadro RTX 8000 VCQRTX8000-PB 48 GB 384 Bit GDDR6 Ekran Kartı</th>\n",
       "      <td>496000.00</td>\n",
       "    </tr>\n",
       "    <tr>\n",
       "      <th>24 Ayar 100 Gram Külçe Altın</th>\n",
       "      <td>465604.56</td>\n",
       "    </tr>\n",
       "    <tr>\n",
       "      <th>24 Ayar 50 Gram Külçe Altın</th>\n",
       "      <td>272550.48</td>\n",
       "    </tr>\n",
       "    <tr>\n",
       "      <th>50 Gram Külçe Altın  24 Ayar</th>\n",
       "      <td>260749.10</td>\n",
       "    </tr>\n",
       "    <tr>\n",
       "      <th>100 Gram Külçe Altın  24 Ayar</th>\n",
       "      <td>260491.35</td>\n",
       "    </tr>\n",
       "  </tbody>\n",
       "</table>\n",
       "</div>"
      ],
      "text/plain": [
       "                                                    unit_price\n",
       "item_name                                                     \n",
       "PNY NVIDIA Quadro RTX 8000 VCQRTX8000-PB 48 GB ...   496000.00\n",
       "24 Ayar 100 Gram Külçe Altın                         465604.56\n",
       "24 Ayar 50 Gram Külçe Altın                          272550.48\n",
       "50 Gram Külçe Altın  24 Ayar                         260749.10\n",
       "100 Gram Külçe Altın  24 Ayar                        260491.35"
      ]
     },
     "execution_count": 32,
     "metadata": {},
     "output_type": "execute_result"
    }
   ],
   "source": [
    "df.groupby(\"item_name\").agg({\"unit_price\":\"max\"}).sort_values(\"unit_price\", ascending = False).head(5) "
   ]
  },
  {
   "cell_type": "code",
   "execution_count": 33,
   "id": "427cb9ce",
   "metadata": {},
   "outputs": [
    {
     "data": {
      "image/png": "[encoded data removed]",
      "text/plain": [
       "<Figure size 432x288 with 1 Axes>"
      ]
     },
     "metadata": {
      "needs_background": "light"
     },
     "output_type": "display_data"
    }
   ],
   "source": [
    "# Monthly transactions\n",
    "order = [1, 2, 3, 4, 5, 6, 7, 8, 9, 10, 11, 12 ]\n",
    "df[df.purchase_time.dt.year==2021].purchase_time.dt.month.value_counts(sort=False).loc[order].plot(kind='bar');\n",
    "plt.title(\"Monthly Transactions\")\n",
    "plt.xlabel(\"Month\")\n",
    "plt.ylabel(\"Count - million \")\n",
    "plt.rcParams[\"figure.figsize\"] = [17, 12]"
   ]
  },
  {
   "cell_type": "code",
   "execution_count": 34,
   "id": "9a9a8adc",
   "metadata": {},
   "outputs": [
    {
     "name": "stdout",
     "output_type": "stream",
     "text": [
      "Oldest Date: 2021-01-01 00:00:11\n",
      "\n",
      "Latest Date: 2021-12-31 23:59:03\n"
     ]
    }
   ],
   "source": [
    "# Oldest and latest purchase time\n",
    "print(f'Oldest Date: {df.purchase_time.min()}\\n')\n",
    "print(f'Latest Date: {df.purchase_time.max()}')"
   ]
  },
  {
   "cell_type": "code",
   "execution_count": 35,
   "id": "5db7bb92",
   "metadata": {},
   "outputs": [
    {
     "data": {
      "image/png": "[encoded data removed]",
      "text/plain": [
       "<Figure size 720x432 with 1 Axes>"
      ]
     },
     "metadata": {
      "needs_background": "light"
     },
     "output_type": "display_data"
    }
   ],
   "source": [
    "# Top selling items\n",
    "top_products = df['item_name'].value_counts()[:20]\n",
    "plt.figure(figsize=(10,6))\n",
    "sns.set_context(\"paper\", font_scale=1.5)\n",
    "sns.barplot(y = top_products.index,\n",
    "            x = top_products.values)\n",
    "plt.title(\"Top Selling Products\")\n",
    "plt.show();"
   ]
  },
  {
   "cell_type": "code",
   "execution_count": 36,
   "id": "fcac749d",
   "metadata": {},
   "outputs": [
    {
     "data": {
      "image/png": "[encoded data removed]",
      "text/plain": [
       "<Figure size 1296x1152 with 16 Axes>"
      ]
     },
     "metadata": {
      "needs_background": "light"
     },
     "output_type": "display_data"
    }
   ],
   "source": [
    "# Distribution of values\n",
    "plt.rcParams['figure.figsize'] = [18, 16]\n",
    "df.plot(kind=\"box\",subplots=True,layout=(4,4),sharex=False,sharey=False)\n",
    "plt.show()"
   ]
  },
  {
   "cell_type": "code",
   "execution_count": 37,
   "id": "5f2389c1",
   "metadata": {},
   "outputs": [
    {
     "data": {
      "image/png": "[encoded data removed]",
      "text/plain": [
       "<Figure size 1080x360 with 2 Axes>"
      ]
     },
     "metadata": {
      "needs_background": "light"
     },
     "output_type": "display_data"
    }
   ],
   "source": [
    "column = ['invoice_number','total_price']\n",
    "\n",
    "plt.figure(figsize=(15,5))\n",
    "for i,j in enumerate(column):\n",
    "    plt.subplot(1,2,i+1)\n",
    "    sns.barplot(x = df[df['total_price']>= 0.1].groupby('item_id')[j]\n",
    "                .nunique().sort_values(ascending=False).head(10).values,\n",
    "                y = df[df['total_price']>= 0.1].groupby('item_id')[j]\n",
    "                .nunique().sort_values(ascending=False).head(10).index,\n",
    "                color='yellow')\n",
    "    plt.ylabel('')\n",
    "    if i==0:\n",
    "        plt.xlabel('Sum of item_count')\n",
    "        plt.title('Top 10 Products Purchased by Customers',size=15)\n",
    "    else:\n",
    "        plt.xlabel('Total Sales')\n",
    "        plt.title('Top 10 Products with Most Sales',size=15)\n",
    "    \n",
    "plt.tight_layout()\n",
    "plt.show()"
   ]
  },
  {
   "cell_type": "markdown",
   "id": "4c1d58f7",
   "metadata": {},
   "source": [
    "## Customer Profile"
   ]
  },
  {
   "cell_type": "code",
   "execution_count": 39,
   "id": "8774e28b",
   "metadata": {},
   "outputs": [
    {
     "data": {
      "text/html": [
       "<div>\n",
       "<style scoped>\n",
       "    .dataframe tbody tr th:only-of-type {\n",
       "        vertical-align: middle;\n",
       "    }\n",
       "\n",
       "    .dataframe tbody tr th {\n",
       "        vertical-align: top;\n",
       "    }\n",
       "\n",
       "    .dataframe thead th {\n",
       "        text-align: right;\n",
       "    }\n",
       "</style>\n",
       "<table border=\"1\" class=\"dataframe\">\n",
       "  <thead>\n",
       "    <tr style=\"text-align: right;\">\n",
       "      <th></th>\n",
       "      <th>customer_id</th>\n",
       "      <th>gender</th>\n",
       "      <th>birth_date</th>\n",
       "      <th>platform</th>\n",
       "    </tr>\n",
       "  </thead>\n",
       "  <tbody>\n",
       "    <tr>\n",
       "      <th>0</th>\n",
       "      <td>6708110</td>\n",
       "      <td>1</td>\n",
       "      <td>1997-07-07 00:00:00</td>\n",
       "      <td>iOS</td>\n",
       "    </tr>\n",
       "    <tr>\n",
       "      <th>1</th>\n",
       "      <td>7568499</td>\n",
       "      <td>0</td>\n",
       "      <td>1995-06-01 00:00:00</td>\n",
       "      <td>iOS</td>\n",
       "    </tr>\n",
       "    <tr>\n",
       "      <th>2</th>\n",
       "      <td>8612475</td>\n",
       "      <td>0</td>\n",
       "      <td>1985-05-20 00:00:00</td>\n",
       "      <td>iOS</td>\n",
       "    </tr>\n",
       "    <tr>\n",
       "      <th>3</th>\n",
       "      <td>9149112</td>\n",
       "      <td>0</td>\n",
       "      <td>1993-02-02 00:00:00</td>\n",
       "      <td>iOS</td>\n",
       "    </tr>\n",
       "    <tr>\n",
       "      <th>4</th>\n",
       "      <td>9051080</td>\n",
       "      <td>1</td>\n",
       "      <td>1995-08-08 00:00:00</td>\n",
       "      <td>iOS</td>\n",
       "    </tr>\n",
       "    <tr>\n",
       "      <th>5</th>\n",
       "      <td>2286982</td>\n",
       "      <td>0</td>\n",
       "      <td>1995-06-17 00:00:00</td>\n",
       "      <td>iOS</td>\n",
       "    </tr>\n",
       "    <tr>\n",
       "      <th>6</th>\n",
       "      <td>7769464</td>\n",
       "      <td>0</td>\n",
       "      <td>1995-08-29 00:00:00</td>\n",
       "      <td>iOS</td>\n",
       "    </tr>\n",
       "    <tr>\n",
       "      <th>7</th>\n",
       "      <td>8695839</td>\n",
       "      <td>0</td>\n",
       "      <td>1996-08-15 16:02:12</td>\n",
       "      <td>iOS</td>\n",
       "    </tr>\n",
       "    <tr>\n",
       "      <th>8</th>\n",
       "      <td>4469603</td>\n",
       "      <td>0</td>\n",
       "      <td>1988-04-02 15:35:31</td>\n",
       "      <td>Android</td>\n",
       "    </tr>\n",
       "    <tr>\n",
       "      <th>9</th>\n",
       "      <td>8339626</td>\n",
       "      <td>0</td>\n",
       "      <td>1993-07-18 09:42:57</td>\n",
       "      <td>Android</td>\n",
       "    </tr>\n",
       "  </tbody>\n",
       "</table>\n",
       "</div>"
      ],
      "text/plain": [
       "   customer_id  gender           birth_date platform\n",
       "0      6708110       1  1997-07-07 00:00:00      iOS\n",
       "1      7568499       0  1995-06-01 00:00:00      iOS\n",
       "2      8612475       0  1985-05-20 00:00:00      iOS\n",
       "3      9149112       0  1993-02-02 00:00:00      iOS\n",
       "4      9051080       1  1995-08-08 00:00:00      iOS\n",
       "5      2286982       0  1995-06-17 00:00:00      iOS\n",
       "6      7769464       0  1995-08-29 00:00:00      iOS\n",
       "7      8695839       0  1996-08-15 16:02:12      iOS\n",
       "8      4469603       0  1988-04-02 15:35:31  Android\n",
       "9      8339626       0  1993-07-18 09:42:57  Android"
      ]
     },
     "execution_count": 39,
     "metadata": {},
     "output_type": "execute_result"
    }
   ],
   "source": [
    "customers = pd.read_csv('/Users/cerenyikilmaz/Desktop/RFM_Analyse/dataset/users.csv')\n",
    "customers.head(10)\n",
    "# 0:Male, 1:Female, 2:Not Specified"
   ]
  },
  {
   "cell_type": "code",
   "execution_count": 40,
   "id": "a70aa674",
   "metadata": {},
   "outputs": [
    {
     "name": "stdout",
     "output_type": "stream",
     "text": [
      "<class 'pandas.core.frame.DataFrame'>\n",
      "RangeIndex: 2042094 entries, 0 to 2042093\n",
      "Data columns (total 4 columns):\n",
      " #   Column       Dtype \n",
      "---  ------       ----- \n",
      " 0   customer_id  int64 \n",
      " 1   gender       int64 \n",
      " 2   birth_date   object\n",
      " 3   platform     object\n",
      "dtypes: int64(2), object(2)\n",
      "memory usage: 62.3+ MB\n"
     ]
    },
    {
     "data": {
      "text/plain": [
       "customer_id    0\n",
       "gender         0\n",
       "birth_date     0\n",
       "platform       0\n",
       "dtype: int64"
      ]
     },
     "execution_count": 40,
     "metadata": {},
     "output_type": "execute_result"
    }
   ],
   "source": [
    "customers.info()\n",
    "customers.isnull().sum()"
   ]
  },
  {
   "cell_type": "code",
   "execution_count": 41,
   "id": "938eecfd",
   "metadata": {},
   "outputs": [
    {
     "name": "stdout",
     "output_type": "stream",
     "text": [
      "<class 'pandas.core.frame.DataFrame'>\n",
      "RangeIndex: 2042094 entries, 0 to 2042093\n",
      "Data columns (total 4 columns):\n",
      " #   Column       Dtype         \n",
      "---  ------       -----         \n",
      " 0   customer_id  object        \n",
      " 1   gender       int64         \n",
      " 2   birth_date   datetime64[ns]\n",
      " 3   platform     object        \n",
      "dtypes: datetime64[ns](1), int64(1), object(2)\n",
      "memory usage: 62.3+ MB\n"
     ]
    }
   ],
   "source": [
    "# data-types changes\n",
    "customers['birth_date'] = pd.to_datetime(customers['birth_date'])\n",
    "customers[\"customer_id\"] = customers[\"customer_id\"].astype('str')\n",
    "\n",
    "customers.info()"
   ]
  },
  {
   "cell_type": "code",
   "execution_count": 42,
   "id": "4bb57c0b",
   "metadata": {},
   "outputs": [
    {
     "name": "stderr",
     "output_type": "stream",
     "text": [
      "/var/folders/4n/h661rptn1ml8y5mzlyrwsqqh0000gn/T/ipykernel_5979/2435019627.py:3: FutureWarning: The pandas.datetime class is deprecated and will be removed from pandas in a future version. Import from datetime module instead.\n",
      "  customers[\"age\"] = customers[\"birth_date\"].apply(lambda x : (pd.datetime.now().year - x.year))\n"
     ]
    }
   ],
   "source": [
    "# I calculate the age of the customers with the birthdate variable based on today's date\n",
    "customers[\"birth_date\"] = pd.to_datetime(customers[\"birth_date\"])\n",
    "customers[\"age\"] = customers[\"birth_date\"].apply(lambda x : (pd.datetime.now().year - x.year))"
   ]
  },
  {
   "cell_type": "code",
   "execution_count": 43,
   "id": "64a66f63",
   "metadata": {},
   "outputs": [
    {
     "data": {
      "text/html": [
       "<div>\n",
       "<style scoped>\n",
       "    .dataframe tbody tr th:only-of-type {\n",
       "        vertical-align: middle;\n",
       "    }\n",
       "\n",
       "    .dataframe tbody tr th {\n",
       "        vertical-align: top;\n",
       "    }\n",
       "\n",
       "    .dataframe thead th {\n",
       "        text-align: right;\n",
       "    }\n",
       "</style>\n",
       "<table border=\"1\" class=\"dataframe\">\n",
       "  <thead>\n",
       "    <tr style=\"text-align: right;\">\n",
       "      <th></th>\n",
       "      <th>customer_id</th>\n",
       "      <th>gender</th>\n",
       "      <th>birth_date</th>\n",
       "      <th>platform</th>\n",
       "      <th>age</th>\n",
       "    </tr>\n",
       "  </thead>\n",
       "  <tbody>\n",
       "    <tr>\n",
       "      <th>0</th>\n",
       "      <td>6708110</td>\n",
       "      <td>1</td>\n",
       "      <td>1997-07-07</td>\n",
       "      <td>iOS</td>\n",
       "      <td>25</td>\n",
       "    </tr>\n",
       "    <tr>\n",
       "      <th>1</th>\n",
       "      <td>7568499</td>\n",
       "      <td>0</td>\n",
       "      <td>1995-06-01</td>\n",
       "      <td>iOS</td>\n",
       "      <td>27</td>\n",
       "    </tr>\n",
       "    <tr>\n",
       "      <th>2</th>\n",
       "      <td>8612475</td>\n",
       "      <td>0</td>\n",
       "      <td>1985-05-20</td>\n",
       "      <td>iOS</td>\n",
       "      <td>37</td>\n",
       "    </tr>\n",
       "    <tr>\n",
       "      <th>3</th>\n",
       "      <td>9149112</td>\n",
       "      <td>0</td>\n",
       "      <td>1993-02-02</td>\n",
       "      <td>iOS</td>\n",
       "      <td>29</td>\n",
       "    </tr>\n",
       "    <tr>\n",
       "      <th>4</th>\n",
       "      <td>9051080</td>\n",
       "      <td>1</td>\n",
       "      <td>1995-08-08</td>\n",
       "      <td>iOS</td>\n",
       "      <td>27</td>\n",
       "    </tr>\n",
       "  </tbody>\n",
       "</table>\n",
       "</div>"
      ],
      "text/plain": [
       "  customer_id  gender birth_date platform  age\n",
       "0     6708110       1 1997-07-07      iOS   25\n",
       "1     7568499       0 1995-06-01      iOS   27\n",
       "2     8612475       0 1985-05-20      iOS   37\n",
       "3     9149112       0 1993-02-02      iOS   29\n",
       "4     9051080       1 1995-08-08      iOS   27"
      ]
     },
     "execution_count": 43,
     "metadata": {},
     "output_type": "execute_result"
    }
   ],
   "source": [
    "customers.head()"
   ]
  },
  {
   "cell_type": "code",
   "execution_count": 44,
   "id": "9b26f609",
   "metadata": {},
   "outputs": [
    {
     "data": {
      "text/plain": [
       "(2042094, 5)"
      ]
     },
     "execution_count": 44,
     "metadata": {},
     "output_type": "execute_result"
    }
   ],
   "source": [
    "customers.shape"
   ]
  },
  {
   "cell_type": "code",
   "execution_count": 45,
   "id": "ccc4c156",
   "metadata": {},
   "outputs": [
    {
     "name": "stderr",
     "output_type": "stream",
     "text": [
      "/Users/cerenyikilmaz/opt/anaconda3/lib/python3.9/site-packages/seaborn/distributions.py:2619: FutureWarning: `distplot` is a deprecated function and will be removed in a future version. Please adapt your code to use either `displot` (a figure-level function with similar flexibility) or `histplot` (an axes-level function for histograms).\n",
      "  warnings.warn(msg, FutureWarning)\n"
     ]
    },
    {
     "data": {
      "text/plain": [
       "<AxesSubplot:title={'center':'Age\\n'}, xlabel='age', ylabel='Density'>"
      ]
     },
     "execution_count": 45,
     "metadata": {},
     "output_type": "execute_result"
    },
    {
     "data": {
      "image/png": "[encoded data removed]",
      "text/plain": [
       "<Figure size 1296x1152 with 1 Axes>"
      ]
     },
     "metadata": {
      "needs_background": "light"
     },
     "output_type": "display_data"
    }
   ],
   "source": [
    "# Age distribution\n",
    "plt.subplot(1,1,1)\n",
    "plt.title('Age\\n', color='#FF000B')\n",
    "sns.distplot(customers['age'], color='#577AFF')"
   ]
  },
  {
   "cell_type": "code",
   "execution_count": 46,
   "id": "995bf7c0",
   "metadata": {},
   "outputs": [
    {
     "data": {
      "text/plain": [
       "(0.0, 1500000.0)"
      ]
     },
     "execution_count": 46,
     "metadata": {},
     "output_type": "execute_result"
    },
    {
     "data": {
      "image/png": "[encoded data removed]",
      "text/plain": [
       "<Figure size 1296x1152 with 1 Axes>"
      ]
     },
     "metadata": {
      "needs_background": "light"
     },
     "output_type": "display_data"
    }
   ],
   "source": [
    "# gender distribution\n",
    "order = [0, 1, 2]\n",
    "bars = ('Male', 'Female', 'Not Specified')\n",
    "x_pos = np.arange(len(bars))\n",
    "\n",
    "customers[\"gender\"].value_counts(sort=False).loc[order].plot(kind='bar');\n",
    "plt.rcParams[\"figure.figsize\"] = [7, 7]\n",
    "plt.xticks(x_pos, bars)\n",
    "plt.ylim(0, 1500000)"
   ]
  },
  {
   "cell_type": "code",
   "execution_count": 47,
   "id": "7afcb936",
   "metadata": {},
   "outputs": [
    {
     "data": {
      "text/plain": [
       "<AxesSubplot:xlabel='gender', ylabel='age'>"
      ]
     },
     "execution_count": 47,
     "metadata": {},
     "output_type": "execute_result"
    },
    {
     "data": {
      "image/png": "[encoded data removed]",
      "text/plain": [
       "<Figure size 504x504 with 1 Axes>"
      ]
     },
     "metadata": {
      "needs_background": "light"
     },
     "output_type": "display_data"
    }
   ],
   "source": [
    "# age and gender distribution\n",
    "sns.boxplot(x=\"gender\", y=\"age\", data=customers)"
   ]
  },
  {
   "cell_type": "code",
   "execution_count": 48,
   "id": "bee181bf",
   "metadata": {},
   "outputs": [
    {
     "data": {
      "image/png": "[encoded data removed]",
      "text/plain": [
       "<Figure size 936x112.32 with 1 Axes>"
      ]
     },
     "metadata": {
      "needs_background": "light"
     },
     "output_type": "display_data"
    }
   ],
   "source": [
    "def desc_stats(dataframe):\n",
    "    desc = dataframe.describe().T\n",
    "    desc_df = pd.DataFrame(index= dataframe.columns, \n",
    "                           columns= desc.columns,\n",
    "                           data= desc)\n",
    "    \n",
    "    f,ax = plt.subplots(figsize=(13,\n",
    "                                 desc_df.shape[0]*0.78))\n",
    "    sns.heatmap(desc_df,\n",
    "                annot=True,\n",
    "                cmap = \"Wistia\",\n",
    "                fmt= '.2f',\n",
    "                ax=ax,\n",
    "                linecolor='white',\n",
    "                linewidths = 1.3,\n",
    "                cbar = False,\n",
    "                annot_kws={\"size\": 11})\n",
    "    plt.xticks(size = 11)\n",
    "    plt.yticks(size = 11,\n",
    "               rotation = 0)\n",
    "    plt.title(\"Descriptive Statistics\", size = 18)\n",
    "    plt.show()\n",
    "    \n",
    "desc_stats(customers[[col for col in customers.columns if (customers[col]\n",
    "                                                           .dtype == 'int' or customers[col].dtype == 'float') ]])"
   ]
  },
  {
   "cell_type": "markdown",
   "id": "2546a166",
   "metadata": {},
   "source": [
    "## COHORT Analyse"
   ]
  },
  {
   "cell_type": "code",
   "execution_count": 49,
   "id": "39749d82",
   "metadata": {},
   "outputs": [],
   "source": [
    "# I create a new column in my dataset by subtracting the timestamp from purchase_time\n",
    "df['purchase_date'] = pd.DatetimeIndex(df['purchase_time']).date"
   ]
  },
  {
   "cell_type": "code",
   "execution_count": 50,
   "id": "ba0254b0",
   "metadata": {},
   "outputs": [
    {
     "data": {
      "text/html": [
       "<div>\n",
       "<style scoped>\n",
       "    .dataframe tbody tr th:only-of-type {\n",
       "        vertical-align: middle;\n",
       "    }\n",
       "\n",
       "    .dataframe tbody tr th {\n",
       "        vertical-align: top;\n",
       "    }\n",
       "\n",
       "    .dataframe thead th {\n",
       "        text-align: right;\n",
       "    }\n",
       "</style>\n",
       "<table border=\"1\" class=\"dataframe\">\n",
       "  <thead>\n",
       "    <tr style=\"text-align: right;\">\n",
       "      <th></th>\n",
       "      <th>customer_id</th>\n",
       "      <th>item_id</th>\n",
       "      <th>item_name</th>\n",
       "      <th>unit_price</th>\n",
       "      <th>item_count</th>\n",
       "      <th>purchase_time</th>\n",
       "      <th>invoice_number</th>\n",
       "      <th>total_price</th>\n",
       "      <th>purchase_date</th>\n",
       "      <th>invoice_month</th>\n",
       "      <th>cohort_month</th>\n",
       "    </tr>\n",
       "  </thead>\n",
       "  <tbody>\n",
       "    <tr>\n",
       "      <th>0</th>\n",
       "      <td>6359890</td>\n",
       "      <td>386012549</td>\n",
       "      <td>Mekoraf 2,5 Metre Çelik Raf Profil 40x40 1,5 m...</td>\n",
       "      <td>105.90</td>\n",
       "      <td>1</td>\n",
       "      <td>2021-12-31 23:59:03</td>\n",
       "      <td>8ee5aa0bf0fb31da5c72025b259fff1883a3ffe0</td>\n",
       "      <td>105.90</td>\n",
       "      <td>2021-12-31</td>\n",
       "      <td>2021-12-01</td>\n",
       "      <td>2021-01-01</td>\n",
       "    </tr>\n",
       "    <tr>\n",
       "      <th>1</th>\n",
       "      <td>14996678</td>\n",
       "      <td>474835415</td>\n",
       "      <td>Intel Core i9-10980XE Extreme Edition 3 GHz LG...</td>\n",
       "      <td>17250.00</td>\n",
       "      <td>1</td>\n",
       "      <td>2021-12-31 23:58:57</td>\n",
       "      <td>b65e6fb1c36ef1bf3aa26874927c2677627d236a</td>\n",
       "      <td>17250.00</td>\n",
       "      <td>2021-12-31</td>\n",
       "      <td>2021-12-01</td>\n",
       "      <td>2021-01-01</td>\n",
       "    </tr>\n",
       "    <tr>\n",
       "      <th>2</th>\n",
       "      <td>11479470</td>\n",
       "      <td>505465829</td>\n",
       "      <td>7 Cm Yükseklikte Aralıklı Tahtalardan Yüksek M...</td>\n",
       "      <td>10.22</td>\n",
       "      <td>1</td>\n",
       "      <td>2021-12-31 23:58:25</td>\n",
       "      <td>d04b373e7d157188f8200350d77f54d6b9dc4f5c</td>\n",
       "      <td>10.22</td>\n",
       "      <td>2021-12-31</td>\n",
       "      <td>2021-12-01</td>\n",
       "      <td>2021-05-01</td>\n",
       "    </tr>\n",
       "    <tr>\n",
       "      <th>3</th>\n",
       "      <td>8478960</td>\n",
       "      <td>520605618</td>\n",
       "      <td>Riddex Elektronik Fare ve Haşere Kovucu Cihaz</td>\n",
       "      <td>34.99</td>\n",
       "      <td>1</td>\n",
       "      <td>2021-12-31 23:58:13</td>\n",
       "      <td>7d8efca99333b32f09d95f0c4e45b1bb920fb220</td>\n",
       "      <td>34.99</td>\n",
       "      <td>2021-12-31</td>\n",
       "      <td>2021-12-01</td>\n",
       "      <td>2021-01-01</td>\n",
       "    </tr>\n",
       "    <tr>\n",
       "      <th>4</th>\n",
       "      <td>27426979</td>\n",
       "      <td>504242650</td>\n",
       "      <td>Razer Gold 25 TL</td>\n",
       "      <td>25.00</td>\n",
       "      <td>1</td>\n",
       "      <td>2021-12-31 23:57:12</td>\n",
       "      <td>a71f62a5f8a8407fedb8da3145408c47c6874cc1</td>\n",
       "      <td>25.00</td>\n",
       "      <td>2021-12-31</td>\n",
       "      <td>2021-12-01</td>\n",
       "      <td>2021-12-01</td>\n",
       "    </tr>\n",
       "  </tbody>\n",
       "</table>\n",
       "</div>"
      ],
      "text/plain": [
       "  customer_id    item_id                                          item_name  \\\n",
       "0     6359890  386012549  Mekoraf 2,5 Metre Çelik Raf Profil 40x40 1,5 m...   \n",
       "1    14996678  474835415  Intel Core i9-10980XE Extreme Edition 3 GHz LG...   \n",
       "2    11479470  505465829  7 Cm Yükseklikte Aralıklı Tahtalardan Yüksek M...   \n",
       "3     8478960  520605618      Riddex Elektronik Fare ve Haşere Kovucu Cihaz   \n",
       "4    27426979  504242650                                   Razer Gold 25 TL   \n",
       "\n",
       "   unit_price  item_count       purchase_time  \\\n",
       "0      105.90           1 2021-12-31 23:59:03   \n",
       "1    17250.00           1 2021-12-31 23:58:57   \n",
       "2       10.22           1 2021-12-31 23:58:25   \n",
       "3       34.99           1 2021-12-31 23:58:13   \n",
       "4       25.00           1 2021-12-31 23:57:12   \n",
       "\n",
       "                             invoice_number  total_price purchase_date  \\\n",
       "0  8ee5aa0bf0fb31da5c72025b259fff1883a3ffe0       105.90    2021-12-31   \n",
       "1  b65e6fb1c36ef1bf3aa26874927c2677627d236a     17250.00    2021-12-31   \n",
       "2  d04b373e7d157188f8200350d77f54d6b9dc4f5c        10.22    2021-12-31   \n",
       "3  7d8efca99333b32f09d95f0c4e45b1bb920fb220        34.99    2021-12-31   \n",
       "4  a71f62a5f8a8407fedb8da3145408c47c6874cc1        25.00    2021-12-31   \n",
       "\n",
       "  invoice_month cohort_month  \n",
       "0    2021-12-01   2021-01-01  \n",
       "1    2021-12-01   2021-01-01  \n",
       "2    2021-12-01   2021-05-01  \n",
       "3    2021-12-01   2021-01-01  \n",
       "4    2021-12-01   2021-12-01  "
      ]
     },
     "execution_count": 50,
     "metadata": {},
     "output_type": "execute_result"
    }
   ],
   "source": [
    "df_cohort = df.copy()\n",
    "\n",
    "# I'm using a function that takes the year and month from the given date and defines the day as 1.\n",
    "\n",
    "def get_month(x): return dt.datetime(x.year, x.month, 1)\n",
    "\n",
    "# With this function, I convert the days in purchase_date to 1 and create a column named invoice_month, \n",
    "# the column that will help us to use the month information of the invoice.\n",
    "\n",
    "df_cohort['invoice_month'] = df_cohort['purchase_date'].apply(get_month)\n",
    "\n",
    "# I also create a variable named cohort_month by grouping the invoice_month and customer_id variables, \n",
    "# this gives the first date of purchase for each customer.\n",
    "\n",
    "grouping = df_cohort.groupby('customer_id')['invoice_month']\n",
    "df_cohort['cohort_month'] = grouping.transform('min')\n",
    "\n",
    "df_cohort.head()"
   ]
  },
  {
   "cell_type": "code",
   "execution_count": 51,
   "id": "c7184043",
   "metadata": {},
   "outputs": [
    {
     "name": "stdout",
     "output_type": "stream",
     "text": [
      "<class 'pandas.core.frame.DataFrame'>\n",
      "Int64Index: 15568066 entries, 0 to 1678921\n",
      "Data columns (total 11 columns):\n",
      " #   Column          Dtype         \n",
      "---  ------          -----         \n",
      " 0   customer_id     object        \n",
      " 1   item_id         object        \n",
      " 2   item_name       object        \n",
      " 3   unit_price      float64       \n",
      " 4   item_count      int64         \n",
      " 5   purchase_time   datetime64[ns]\n",
      " 6   invoice_number  object        \n",
      " 7   total_price     float64       \n",
      " 8   purchase_date   object        \n",
      " 9   invoice_month   datetime64[ns]\n",
      " 10  cohort_month    datetime64[ns]\n",
      "dtypes: datetime64[ns](3), float64(2), int64(1), object(5)\n",
      "memory usage: 1.4+ GB\n"
     ]
    }
   ],
   "source": [
    "df_cohort.info()\n",
    "df_cohort['purchase_date'] = pd.to_datetime(df_cohort['purchase_date'])\n",
    "df_cohort['cohort_month'] = pd.to_datetime(df_cohort['cohort_month'])"
   ]
  },
  {
   "cell_type": "code",
   "execution_count": 52,
   "id": "e9f5f74d",
   "metadata": {},
   "outputs": [],
   "source": [
    "# With the help of a function, I pull the day, month and year values \n",
    "# from the invoice_month and cohort_month variables.\n",
    "\n",
    "def get_date_int(df, column):\n",
    "    year = df[column].dt.year\n",
    "    month = df[column].dt.month\n",
    "    day = df[column].dt.day\n",
    "    return year, month, day"
   ]
  },
  {
   "cell_type": "code",
   "execution_count": 53,
   "id": "5f5b40db",
   "metadata": {},
   "outputs": [
    {
     "data": {
      "text/html": [
       "<div>\n",
       "<style scoped>\n",
       "    .dataframe tbody tr th:only-of-type {\n",
       "        vertical-align: middle;\n",
       "    }\n",
       "\n",
       "    .dataframe tbody tr th {\n",
       "        vertical-align: top;\n",
       "    }\n",
       "\n",
       "    .dataframe thead th {\n",
       "        text-align: right;\n",
       "    }\n",
       "</style>\n",
       "<table border=\"1\" class=\"dataframe\">\n",
       "  <thead>\n",
       "    <tr style=\"text-align: right;\">\n",
       "      <th></th>\n",
       "      <th>customer_id</th>\n",
       "      <th>item_id</th>\n",
       "      <th>item_name</th>\n",
       "      <th>unit_price</th>\n",
       "      <th>item_count</th>\n",
       "      <th>purchase_time</th>\n",
       "      <th>invoice_number</th>\n",
       "      <th>total_price</th>\n",
       "      <th>purchase_date</th>\n",
       "      <th>invoice_month</th>\n",
       "      <th>cohort_month</th>\n",
       "      <th>cohort_index</th>\n",
       "    </tr>\n",
       "  </thead>\n",
       "  <tbody>\n",
       "    <tr>\n",
       "      <th>0</th>\n",
       "      <td>6359890</td>\n",
       "      <td>386012549</td>\n",
       "      <td>Mekoraf 2,5 Metre Çelik Raf Profil 40x40 1,5 m...</td>\n",
       "      <td>105.90</td>\n",
       "      <td>1</td>\n",
       "      <td>2021-12-31 23:59:03</td>\n",
       "      <td>8ee5aa0bf0fb31da5c72025b259fff1883a3ffe0</td>\n",
       "      <td>105.90</td>\n",
       "      <td>2021-12-31</td>\n",
       "      <td>2021-12-01</td>\n",
       "      <td>2021-01-01</td>\n",
       "      <td>12</td>\n",
       "    </tr>\n",
       "    <tr>\n",
       "      <th>1</th>\n",
       "      <td>14996678</td>\n",
       "      <td>474835415</td>\n",
       "      <td>Intel Core i9-10980XE Extreme Edition 3 GHz LG...</td>\n",
       "      <td>17250.00</td>\n",
       "      <td>1</td>\n",
       "      <td>2021-12-31 23:58:57</td>\n",
       "      <td>b65e6fb1c36ef1bf3aa26874927c2677627d236a</td>\n",
       "      <td>17250.00</td>\n",
       "      <td>2021-12-31</td>\n",
       "      <td>2021-12-01</td>\n",
       "      <td>2021-01-01</td>\n",
       "      <td>12</td>\n",
       "    </tr>\n",
       "    <tr>\n",
       "      <th>2</th>\n",
       "      <td>11479470</td>\n",
       "      <td>505465829</td>\n",
       "      <td>7 Cm Yükseklikte Aralıklı Tahtalardan Yüksek M...</td>\n",
       "      <td>10.22</td>\n",
       "      <td>1</td>\n",
       "      <td>2021-12-31 23:58:25</td>\n",
       "      <td>d04b373e7d157188f8200350d77f54d6b9dc4f5c</td>\n",
       "      <td>10.22</td>\n",
       "      <td>2021-12-31</td>\n",
       "      <td>2021-12-01</td>\n",
       "      <td>2021-05-01</td>\n",
       "      <td>8</td>\n",
       "    </tr>\n",
       "    <tr>\n",
       "      <th>3</th>\n",
       "      <td>8478960</td>\n",
       "      <td>520605618</td>\n",
       "      <td>Riddex Elektronik Fare ve Haşere Kovucu Cihaz</td>\n",
       "      <td>34.99</td>\n",
       "      <td>1</td>\n",
       "      <td>2021-12-31 23:58:13</td>\n",
       "      <td>7d8efca99333b32f09d95f0c4e45b1bb920fb220</td>\n",
       "      <td>34.99</td>\n",
       "      <td>2021-12-31</td>\n",
       "      <td>2021-12-01</td>\n",
       "      <td>2021-01-01</td>\n",
       "      <td>12</td>\n",
       "    </tr>\n",
       "    <tr>\n",
       "      <th>4</th>\n",
       "      <td>27426979</td>\n",
       "      <td>504242650</td>\n",
       "      <td>Razer Gold 25 TL</td>\n",
       "      <td>25.00</td>\n",
       "      <td>1</td>\n",
       "      <td>2021-12-31 23:57:12</td>\n",
       "      <td>a71f62a5f8a8407fedb8da3145408c47c6874cc1</td>\n",
       "      <td>25.00</td>\n",
       "      <td>2021-12-31</td>\n",
       "      <td>2021-12-01</td>\n",
       "      <td>2021-12-01</td>\n",
       "      <td>1</td>\n",
       "    </tr>\n",
       "  </tbody>\n",
       "</table>\n",
       "</div>"
      ],
      "text/plain": [
       "  customer_id    item_id                                          item_name  \\\n",
       "0     6359890  386012549  Mekoraf 2,5 Metre Çelik Raf Profil 40x40 1,5 m...   \n",
       "1    14996678  474835415  Intel Core i9-10980XE Extreme Edition 3 GHz LG...   \n",
       "2    11479470  505465829  7 Cm Yükseklikte Aralıklı Tahtalardan Yüksek M...   \n",
       "3     8478960  520605618      Riddex Elektronik Fare ve Haşere Kovucu Cihaz   \n",
       "4    27426979  504242650                                   Razer Gold 25 TL   \n",
       "\n",
       "   unit_price  item_count       purchase_time  \\\n",
       "0      105.90           1 2021-12-31 23:59:03   \n",
       "1    17250.00           1 2021-12-31 23:58:57   \n",
       "2       10.22           1 2021-12-31 23:58:25   \n",
       "3       34.99           1 2021-12-31 23:58:13   \n",
       "4       25.00           1 2021-12-31 23:57:12   \n",
       "\n",
       "                             invoice_number  total_price purchase_date  \\\n",
       "0  8ee5aa0bf0fb31da5c72025b259fff1883a3ffe0       105.90    2021-12-31   \n",
       "1  b65e6fb1c36ef1bf3aa26874927c2677627d236a     17250.00    2021-12-31   \n",
       "2  d04b373e7d157188f8200350d77f54d6b9dc4f5c        10.22    2021-12-31   \n",
       "3  7d8efca99333b32f09d95f0c4e45b1bb920fb220        34.99    2021-12-31   \n",
       "4  a71f62a5f8a8407fedb8da3145408c47c6874cc1        25.00    2021-12-31   \n",
       "\n",
       "  invoice_month cohort_month  cohort_index  \n",
       "0    2021-12-01   2021-01-01            12  \n",
       "1    2021-12-01   2021-01-01            12  \n",
       "2    2021-12-01   2021-05-01             8  \n",
       "3    2021-12-01   2021-01-01            12  \n",
       "4    2021-12-01   2021-12-01             1  "
      ]
     },
     "execution_count": 53,
     "metadata": {},
     "output_type": "execute_result"
    }
   ],
   "source": [
    "# I create the cohort_index column for each user, to create it I do the following:\n",
    "\n",
    "invoice_year, invoice_month, invoice_day = get_date_int(df_cohort, 'invoice_month')\n",
    "cohort_year, cohort_month, cohort_day = get_date_int(df_cohort, 'cohort_month')\n",
    "\n",
    "years_diff = invoice_year - cohort_year\n",
    "months_diff = invoice_month - cohort_month\n",
    "\n",
    "df_cohort['cohort_index'] = years_diff * 12 + months_diff + 1\n",
    "\n",
    "df_cohort.head(5)"
   ]
  },
  {
   "cell_type": "code",
   "execution_count": 54,
   "id": "b3eb869f",
   "metadata": {},
   "outputs": [],
   "source": [
    "grouping = df_cohort.groupby(['cohort_month', 'cohort_index'])\n",
    "\n",
    "cohort_data = grouping['customer_id'].apply(pd.Series.nunique)\n",
    "\n",
    "cohort_data = cohort_data.reset_index()\n",
    "\n",
    "cohort_counts = cohort_data.pivot(index='cohort_month',\n",
    "                                 columns='cohort_index',\n",
    "                                 values='customer_id')"
   ]
  },
  {
   "cell_type": "code",
   "execution_count": 55,
   "id": "11f1d7a2",
   "metadata": {},
   "outputs": [],
   "source": [
    "cohort_sizes = cohort_counts.iloc[:,0]\n",
    "retention = cohort_counts.divide(cohort_sizes, axis=0)\n",
    "retention.index=retention.index.date"
   ]
  },
  {
   "cell_type": "code",
   "execution_count": 56,
   "id": "9a18a92c",
   "metadata": {},
   "outputs": [
    {
     "data": {
      "image/png": "[encoded data removed]",
      "text/plain": [
       "<Figure size 864x720 with 2 Axes>"
      ]
     },
     "metadata": {},
     "output_type": "display_data"
    }
   ],
   "source": [
    "plt.style.use('fivethirtyeight')\n",
    "plt.figure(figsize=(12,10))\n",
    "plt.title('Retention Rates')\n",
    "\n",
    "sns.heatmap(data = retention,\n",
    "           annot = True,\n",
    "           fmt = '.0%',\n",
    "           vmin= 0.0,\n",
    "           vmax=0.5,\n",
    "           cmap='summer_r')\n",
    "plt.show()"
   ]
  },
  {
   "cell_type": "markdown",
   "id": "6cb03d24",
   "metadata": {},
   "source": [
    "## RFM Analyse"
   ]
  },
  {
   "cell_type": "code",
   "execution_count": 57,
   "id": "d597aa6c",
   "metadata": {},
   "outputs": [
    {
     "name": "stdout",
     "output_type": "stream",
     "text": [
      "<class 'pandas.core.frame.DataFrame'>\n",
      "Int64Index: 15568066 entries, 0 to 1678921\n",
      "Data columns (total 9 columns):\n",
      " #   Column          Dtype         \n",
      "---  ------          -----         \n",
      " 0   customer_id     object        \n",
      " 1   item_id         object        \n",
      " 2   item_name       object        \n",
      " 3   unit_price      float64       \n",
      " 4   item_count      int64         \n",
      " 5   purchase_time   datetime64[ns]\n",
      " 6   invoice_number  object        \n",
      " 7   total_price     float64       \n",
      " 8   purchase_date   object        \n",
      "dtypes: datetime64[ns](1), float64(2), int64(1), object(5)\n",
      "memory usage: 1.2+ GB\n"
     ]
    }
   ],
   "source": [
    "df.info()"
   ]
  },
  {
   "cell_type": "code",
   "execution_count": 58,
   "id": "edbdffd9",
   "metadata": {},
   "outputs": [
    {
     "data": {
      "text/html": [
       "<div>\n",
       "<style scoped>\n",
       "    .dataframe tbody tr th:only-of-type {\n",
       "        vertical-align: middle;\n",
       "    }\n",
       "\n",
       "    .dataframe tbody tr th {\n",
       "        vertical-align: top;\n",
       "    }\n",
       "\n",
       "    .dataframe thead th {\n",
       "        text-align: right;\n",
       "    }\n",
       "</style>\n",
       "<table border=\"1\" class=\"dataframe\">\n",
       "  <thead>\n",
       "    <tr style=\"text-align: right;\">\n",
       "      <th></th>\n",
       "      <th>customer_id</th>\n",
       "      <th>item_id</th>\n",
       "      <th>item_name</th>\n",
       "      <th>unit_price</th>\n",
       "      <th>item_count</th>\n",
       "      <th>purchase_time</th>\n",
       "      <th>invoice_number</th>\n",
       "      <th>total_price</th>\n",
       "      <th>purchase_date</th>\n",
       "    </tr>\n",
       "  </thead>\n",
       "  <tbody>\n",
       "    <tr>\n",
       "      <th>0</th>\n",
       "      <td>6359890</td>\n",
       "      <td>386012549</td>\n",
       "      <td>Mekoraf 2,5 Metre Çelik Raf Profil 40x40 1,5 m...</td>\n",
       "      <td>105.90</td>\n",
       "      <td>1</td>\n",
       "      <td>2021-12-31 23:59:03</td>\n",
       "      <td>8ee5aa0bf0fb31da5c72025b259fff1883a3ffe0</td>\n",
       "      <td>105.90</td>\n",
       "      <td>2021-12-31</td>\n",
       "    </tr>\n",
       "    <tr>\n",
       "      <th>1</th>\n",
       "      <td>14996678</td>\n",
       "      <td>474835415</td>\n",
       "      <td>Intel Core i9-10980XE Extreme Edition 3 GHz LG...</td>\n",
       "      <td>17250.00</td>\n",
       "      <td>1</td>\n",
       "      <td>2021-12-31 23:58:57</td>\n",
       "      <td>b65e6fb1c36ef1bf3aa26874927c2677627d236a</td>\n",
       "      <td>17250.00</td>\n",
       "      <td>2021-12-31</td>\n",
       "    </tr>\n",
       "    <tr>\n",
       "      <th>2</th>\n",
       "      <td>11479470</td>\n",
       "      <td>505465829</td>\n",
       "      <td>7 Cm Yükseklikte Aralıklı Tahtalardan Yüksek M...</td>\n",
       "      <td>10.22</td>\n",
       "      <td>1</td>\n",
       "      <td>2021-12-31 23:58:25</td>\n",
       "      <td>d04b373e7d157188f8200350d77f54d6b9dc4f5c</td>\n",
       "      <td>10.22</td>\n",
       "      <td>2021-12-31</td>\n",
       "    </tr>\n",
       "    <tr>\n",
       "      <th>3</th>\n",
       "      <td>8478960</td>\n",
       "      <td>520605618</td>\n",
       "      <td>Riddex Elektronik Fare ve Haşere Kovucu Cihaz</td>\n",
       "      <td>34.99</td>\n",
       "      <td>1</td>\n",
       "      <td>2021-12-31 23:58:13</td>\n",
       "      <td>7d8efca99333b32f09d95f0c4e45b1bb920fb220</td>\n",
       "      <td>34.99</td>\n",
       "      <td>2021-12-31</td>\n",
       "    </tr>\n",
       "    <tr>\n",
       "      <th>4</th>\n",
       "      <td>27426979</td>\n",
       "      <td>504242650</td>\n",
       "      <td>Razer Gold 25 TL</td>\n",
       "      <td>25.00</td>\n",
       "      <td>1</td>\n",
       "      <td>2021-12-31 23:57:12</td>\n",
       "      <td>a71f62a5f8a8407fedb8da3145408c47c6874cc1</td>\n",
       "      <td>25.00</td>\n",
       "      <td>2021-12-31</td>\n",
       "    </tr>\n",
       "  </tbody>\n",
       "</table>\n",
       "</div>"
      ],
      "text/plain": [
       "  customer_id    item_id                                          item_name  \\\n",
       "0     6359890  386012549  Mekoraf 2,5 Metre Çelik Raf Profil 40x40 1,5 m...   \n",
       "1    14996678  474835415  Intel Core i9-10980XE Extreme Edition 3 GHz LG...   \n",
       "2    11479470  505465829  7 Cm Yükseklikte Aralıklı Tahtalardan Yüksek M...   \n",
       "3     8478960  520605618      Riddex Elektronik Fare ve Haşere Kovucu Cihaz   \n",
       "4    27426979  504242650                                   Razer Gold 25 TL   \n",
       "\n",
       "   unit_price  item_count       purchase_time  \\\n",
       "0      105.90           1 2021-12-31 23:59:03   \n",
       "1    17250.00           1 2021-12-31 23:58:57   \n",
       "2       10.22           1 2021-12-31 23:58:25   \n",
       "3       34.99           1 2021-12-31 23:58:13   \n",
       "4       25.00           1 2021-12-31 23:57:12   \n",
       "\n",
       "                             invoice_number  total_price purchase_date  \n",
       "0  8ee5aa0bf0fb31da5c72025b259fff1883a3ffe0       105.90    2021-12-31  \n",
       "1  b65e6fb1c36ef1bf3aa26874927c2677627d236a     17250.00    2021-12-31  \n",
       "2  d04b373e7d157188f8200350d77f54d6b9dc4f5c        10.22    2021-12-31  \n",
       "3  7d8efca99333b32f09d95f0c4e45b1bb920fb220        34.99    2021-12-31  \n",
       "4  a71f62a5f8a8407fedb8da3145408c47c6874cc1        25.00    2021-12-31  "
      ]
     },
     "execution_count": 58,
     "metadata": {},
     "output_type": "execute_result"
    }
   ],
   "source": [
    "df.head()"
   ]
  },
  {
   "cell_type": "code",
   "execution_count": 59,
   "id": "c704cee1",
   "metadata": {},
   "outputs": [
    {
     "data": {
      "text/plain": [
       "Timestamp('2021-01-01 00:00:11')"
      ]
     },
     "execution_count": 59,
     "metadata": {},
     "output_type": "execute_result"
    }
   ],
   "source": [
    "# We find the first day of shopping.\n",
    "\n",
    "df[\"purchase_time\"].min()"
   ]
  },
  {
   "cell_type": "code",
   "execution_count": 60,
   "id": "396d81fe",
   "metadata": {},
   "outputs": [
    {
     "data": {
      "text/plain": [
       "Timestamp('2021-12-31 23:59:03')"
      ]
     },
     "execution_count": 60,
     "metadata": {},
     "output_type": "execute_result"
    }
   ],
   "source": [
    "# We find the last day of shopping.\n",
    "\n",
    "df[\"purchase_time\"].max()"
   ]
  },
  {
   "cell_type": "code",
   "execution_count": 61,
   "id": "0dbbb1fd",
   "metadata": {},
   "outputs": [
    {
     "name": "stdout",
     "output_type": "stream",
     "text": [
      "2022-01-01\n"
     ]
    }
   ],
   "source": [
    "now = dt.date(2022,1,1)\n",
    "print(now)"
   ]
  },
  {
   "cell_type": "markdown",
   "id": "bf214283",
   "metadata": {},
   "source": [
    "## Recency"
   ]
  },
  {
   "cell_type": "code",
   "execution_count": 62,
   "id": "b9d24c96",
   "metadata": {},
   "outputs": [
    {
     "data": {
      "text/html": [
       "<div>\n",
       "<style scoped>\n",
       "    .dataframe tbody tr th:only-of-type {\n",
       "        vertical-align: middle;\n",
       "    }\n",
       "\n",
       "    .dataframe tbody tr th {\n",
       "        vertical-align: top;\n",
       "    }\n",
       "\n",
       "    .dataframe thead th {\n",
       "        text-align: right;\n",
       "    }\n",
       "</style>\n",
       "<table border=\"1\" class=\"dataframe\">\n",
       "  <thead>\n",
       "    <tr style=\"text-align: right;\">\n",
       "      <th></th>\n",
       "      <th>customer_id</th>\n",
       "      <th>last_purchase_date</th>\n",
       "    </tr>\n",
       "  </thead>\n",
       "  <tbody>\n",
       "    <tr>\n",
       "      <th>0</th>\n",
       "      <td>10000000</td>\n",
       "      <td>2021-12-09</td>\n",
       "    </tr>\n",
       "    <tr>\n",
       "      <th>1</th>\n",
       "      <td>10000001</td>\n",
       "      <td>2021-07-01</td>\n",
       "    </tr>\n",
       "    <tr>\n",
       "      <th>2</th>\n",
       "      <td>10000021</td>\n",
       "      <td>2021-12-27</td>\n",
       "    </tr>\n",
       "    <tr>\n",
       "      <th>3</th>\n",
       "      <td>10000038</td>\n",
       "      <td>2021-02-07</td>\n",
       "    </tr>\n",
       "    <tr>\n",
       "      <th>4</th>\n",
       "      <td>10000043</td>\n",
       "      <td>2021-10-30</td>\n",
       "    </tr>\n",
       "  </tbody>\n",
       "</table>\n",
       "</div>"
      ],
      "text/plain": [
       "  customer_id last_purchase_date\n",
       "0    10000000         2021-12-09\n",
       "1    10000001         2021-07-01\n",
       "2    10000021         2021-12-27\n",
       "3    10000038         2021-02-07\n",
       "4    10000043         2021-10-30"
      ]
     },
     "execution_count": 62,
     "metadata": {},
     "output_type": "execute_result"
    }
   ],
   "source": [
    "# We find the day customers last shopped\n",
    "\n",
    "recency_df = df.groupby(by='customer_id', as_index=False)['purchase_date'].max()\n",
    "recency_df.columns = ['customer_id','last_purchase_date']\n",
    "recency_df.head()"
   ]
  },
  {
   "cell_type": "code",
   "execution_count": 63,
   "id": "b465ea26",
   "metadata": {},
   "outputs": [],
   "source": [
    "# Calculating Recency\n",
    "\n",
    "recency_df['recency'] = recency_df['last_purchase_date'].apply(lambda x: (now - x).days)"
   ]
  },
  {
   "cell_type": "code",
   "execution_count": 64,
   "id": "5def39be",
   "metadata": {},
   "outputs": [],
   "source": [
    "#I'm dropping LastPurchaseDate because we don't need it anymore.\n",
    "\n",
    "recency_df.drop('last_purchase_date',axis=1,inplace=True)"
   ]
  },
  {
   "cell_type": "code",
   "execution_count": 65,
   "id": "f649f93d",
   "metadata": {},
   "outputs": [
    {
     "data": {
      "text/html": [
       "<div>\n",
       "<style scoped>\n",
       "    .dataframe tbody tr th:only-of-type {\n",
       "        vertical-align: middle;\n",
       "    }\n",
       "\n",
       "    .dataframe tbody tr th {\n",
       "        vertical-align: top;\n",
       "    }\n",
       "\n",
       "    .dataframe thead th {\n",
       "        text-align: right;\n",
       "    }\n",
       "</style>\n",
       "<table border=\"1\" class=\"dataframe\">\n",
       "  <thead>\n",
       "    <tr style=\"text-align: right;\">\n",
       "      <th></th>\n",
       "      <th>customer_id</th>\n",
       "      <th>recency</th>\n",
       "    </tr>\n",
       "  </thead>\n",
       "  <tbody>\n",
       "    <tr>\n",
       "      <th>0</th>\n",
       "      <td>10000000</td>\n",
       "      <td>23</td>\n",
       "    </tr>\n",
       "    <tr>\n",
       "      <th>1</th>\n",
       "      <td>10000001</td>\n",
       "      <td>184</td>\n",
       "    </tr>\n",
       "    <tr>\n",
       "      <th>2</th>\n",
       "      <td>10000021</td>\n",
       "      <td>5</td>\n",
       "    </tr>\n",
       "    <tr>\n",
       "      <th>3</th>\n",
       "      <td>10000038</td>\n",
       "      <td>328</td>\n",
       "    </tr>\n",
       "    <tr>\n",
       "      <th>4</th>\n",
       "      <td>10000043</td>\n",
       "      <td>63</td>\n",
       "    </tr>\n",
       "  </tbody>\n",
       "</table>\n",
       "</div>"
      ],
      "text/plain": [
       "  customer_id  recency\n",
       "0    10000000       23\n",
       "1    10000001      184\n",
       "2    10000021        5\n",
       "3    10000038      328\n",
       "4    10000043       63"
      ]
     },
     "execution_count": 65,
     "metadata": {},
     "output_type": "execute_result"
    }
   ],
   "source": [
    "recency_df.head(5)"
   ]
  },
  {
   "cell_type": "markdown",
   "id": "1a88b4e3",
   "metadata": {},
   "source": [
    "## Frequency"
   ]
  },
  {
   "cell_type": "code",
   "execution_count": 66,
   "id": "9d60b162",
   "metadata": {},
   "outputs": [
    {
     "data": {
      "text/html": [
       "<div>\n",
       "<style scoped>\n",
       "    .dataframe tbody tr th:only-of-type {\n",
       "        vertical-align: middle;\n",
       "    }\n",
       "\n",
       "    .dataframe tbody tr th {\n",
       "        vertical-align: top;\n",
       "    }\n",
       "\n",
       "    .dataframe thead th {\n",
       "        text-align: right;\n",
       "    }\n",
       "</style>\n",
       "<table border=\"1\" class=\"dataframe\">\n",
       "  <thead>\n",
       "    <tr style=\"text-align: right;\">\n",
       "      <th></th>\n",
       "      <th>customer_id</th>\n",
       "      <th>frequency</th>\n",
       "    </tr>\n",
       "  </thead>\n",
       "  <tbody>\n",
       "    <tr>\n",
       "      <th>0</th>\n",
       "      <td>10000000</td>\n",
       "      <td>1</td>\n",
       "    </tr>\n",
       "    <tr>\n",
       "      <th>1</th>\n",
       "      <td>10000001</td>\n",
       "      <td>7</td>\n",
       "    </tr>\n",
       "    <tr>\n",
       "      <th>2</th>\n",
       "      <td>10000021</td>\n",
       "      <td>5</td>\n",
       "    </tr>\n",
       "    <tr>\n",
       "      <th>3</th>\n",
       "      <td>10000038</td>\n",
       "      <td>2</td>\n",
       "    </tr>\n",
       "    <tr>\n",
       "      <th>4</th>\n",
       "      <td>10000043</td>\n",
       "      <td>4</td>\n",
       "    </tr>\n",
       "  </tbody>\n",
       "</table>\n",
       "</div>"
      ],
      "text/plain": [
       "  customer_id  frequency\n",
       "0    10000000          1\n",
       "1    10000001          7\n",
       "2    10000021          5\n",
       "3    10000038          2\n",
       "4    10000043          4"
      ]
     },
     "execution_count": 66,
     "metadata": {},
     "output_type": "execute_result"
    }
   ],
   "source": [
    "# I want to determine the total number of purchases a customer has made\n",
    "# In this way, I can reach the total number of purchases\n",
    "\n",
    "df_copy = df\n",
    "\n",
    "# Calculating Frequency\n",
    "\n",
    "frequency_df = df_copy.groupby(by=['customer_id'], as_index=False)['invoice_number'].count()\n",
    "frequency_df.columns = ['customer_id','frequency']\n",
    "frequency_df.head(5)"
   ]
  },
  {
   "cell_type": "markdown",
   "id": "9d9623fa",
   "metadata": {},
   "source": [
    "## Monetary"
   ]
  },
  {
   "cell_type": "code",
   "execution_count": 67,
   "id": "9a3cec68",
   "metadata": {},
   "outputs": [
    {
     "data": {
      "text/html": [
       "<div>\n",
       "<style scoped>\n",
       "    .dataframe tbody tr th:only-of-type {\n",
       "        vertical-align: middle;\n",
       "    }\n",
       "\n",
       "    .dataframe tbody tr th {\n",
       "        vertical-align: top;\n",
       "    }\n",
       "\n",
       "    .dataframe thead th {\n",
       "        text-align: right;\n",
       "    }\n",
       "</style>\n",
       "<table border=\"1\" class=\"dataframe\">\n",
       "  <thead>\n",
       "    <tr style=\"text-align: right;\">\n",
       "      <th></th>\n",
       "      <th>customer_id</th>\n",
       "      <th>monetary</th>\n",
       "    </tr>\n",
       "  </thead>\n",
       "  <tbody>\n",
       "    <tr>\n",
       "      <th>0</th>\n",
       "      <td>10000000</td>\n",
       "      <td>200.00</td>\n",
       "    </tr>\n",
       "    <tr>\n",
       "      <th>1</th>\n",
       "      <td>10000001</td>\n",
       "      <td>416.37</td>\n",
       "    </tr>\n",
       "    <tr>\n",
       "      <th>2</th>\n",
       "      <td>10000021</td>\n",
       "      <td>395.45</td>\n",
       "    </tr>\n",
       "    <tr>\n",
       "      <th>3</th>\n",
       "      <td>10000038</td>\n",
       "      <td>89.80</td>\n",
       "    </tr>\n",
       "    <tr>\n",
       "      <th>4</th>\n",
       "      <td>10000043</td>\n",
       "      <td>119.64</td>\n",
       "    </tr>\n",
       "  </tbody>\n",
       "</table>\n",
       "</div>"
      ],
      "text/plain": [
       "  customer_id  monetary\n",
       "0    10000000    200.00\n",
       "1    10000001    416.37\n",
       "2    10000021    395.45\n",
       "3    10000038     89.80\n",
       "4    10000043    119.64"
      ]
     },
     "execution_count": 67,
     "metadata": {},
     "output_type": "execute_result"
    }
   ],
   "source": [
    "# Calculating Monetary\n",
    "\n",
    "monetary_df = df.groupby(by='customer_id',as_index=False).agg({'total_price': 'sum'})\n",
    "monetary_df.columns = ['customer_id','monetary']\n",
    "monetary_df.head(5)"
   ]
  },
  {
   "cell_type": "markdown",
   "id": "ed20f803",
   "metadata": {},
   "source": [
    "## RFM Scoring"
   ]
  },
  {
   "cell_type": "code",
   "execution_count": 68,
   "id": "0e4ccb23",
   "metadata": {},
   "outputs": [
    {
     "data": {
      "text/html": [
       "<div>\n",
       "<style scoped>\n",
       "    .dataframe tbody tr th:only-of-type {\n",
       "        vertical-align: middle;\n",
       "    }\n",
       "\n",
       "    .dataframe tbody tr th {\n",
       "        vertical-align: top;\n",
       "    }\n",
       "\n",
       "    .dataframe thead th {\n",
       "        text-align: right;\n",
       "    }\n",
       "</style>\n",
       "<table border=\"1\" class=\"dataframe\">\n",
       "  <thead>\n",
       "    <tr style=\"text-align: right;\">\n",
       "      <th></th>\n",
       "      <th>customer_id</th>\n",
       "      <th>recency</th>\n",
       "      <th>frequency</th>\n",
       "    </tr>\n",
       "  </thead>\n",
       "  <tbody>\n",
       "    <tr>\n",
       "      <th>0</th>\n",
       "      <td>10000000</td>\n",
       "      <td>23</td>\n",
       "      <td>1</td>\n",
       "    </tr>\n",
       "    <tr>\n",
       "      <th>1</th>\n",
       "      <td>10000001</td>\n",
       "      <td>184</td>\n",
       "      <td>7</td>\n",
       "    </tr>\n",
       "    <tr>\n",
       "      <th>2</th>\n",
       "      <td>10000021</td>\n",
       "      <td>5</td>\n",
       "      <td>5</td>\n",
       "    </tr>\n",
       "    <tr>\n",
       "      <th>3</th>\n",
       "      <td>10000038</td>\n",
       "      <td>328</td>\n",
       "      <td>2</td>\n",
       "    </tr>\n",
       "    <tr>\n",
       "      <th>4</th>\n",
       "      <td>10000043</td>\n",
       "      <td>63</td>\n",
       "      <td>4</td>\n",
       "    </tr>\n",
       "  </tbody>\n",
       "</table>\n",
       "</div>"
      ],
      "text/plain": [
       "  customer_id  recency  frequency\n",
       "0    10000000       23          1\n",
       "1    10000001      184          7\n",
       "2    10000021        5          5\n",
       "3    10000038      328          2\n",
       "4    10000043       63          4"
      ]
     },
     "execution_count": 68,
     "metadata": {},
     "output_type": "execute_result"
    }
   ],
   "source": [
    "#merge recency dataframe with frequency dataframe\n",
    "\n",
    "temp_df = recency_df.merge(frequency_df,on='customer_id')\n",
    "temp_df.head()"
   ]
  },
  {
   "cell_type": "code",
   "execution_count": 69,
   "id": "dc40e19f",
   "metadata": {},
   "outputs": [
    {
     "data": {
      "text/html": [
       "<div>\n",
       "<style scoped>\n",
       "    .dataframe tbody tr th:only-of-type {\n",
       "        vertical-align: middle;\n",
       "    }\n",
       "\n",
       "    .dataframe tbody tr th {\n",
       "        vertical-align: top;\n",
       "    }\n",
       "\n",
       "    .dataframe thead th {\n",
       "        text-align: right;\n",
       "    }\n",
       "</style>\n",
       "<table border=\"1\" class=\"dataframe\">\n",
       "  <thead>\n",
       "    <tr style=\"text-align: right;\">\n",
       "      <th></th>\n",
       "      <th>recency</th>\n",
       "      <th>frequency</th>\n",
       "      <th>monetary</th>\n",
       "    </tr>\n",
       "    <tr>\n",
       "      <th>customer_id</th>\n",
       "      <th></th>\n",
       "      <th></th>\n",
       "      <th></th>\n",
       "    </tr>\n",
       "  </thead>\n",
       "  <tbody>\n",
       "    <tr>\n",
       "      <th>10000000</th>\n",
       "      <td>23</td>\n",
       "      <td>1</td>\n",
       "      <td>200.00</td>\n",
       "    </tr>\n",
       "    <tr>\n",
       "      <th>10000001</th>\n",
       "      <td>184</td>\n",
       "      <td>7</td>\n",
       "      <td>416.37</td>\n",
       "    </tr>\n",
       "    <tr>\n",
       "      <th>10000021</th>\n",
       "      <td>5</td>\n",
       "      <td>5</td>\n",
       "      <td>395.45</td>\n",
       "    </tr>\n",
       "    <tr>\n",
       "      <th>10000038</th>\n",
       "      <td>328</td>\n",
       "      <td>2</td>\n",
       "      <td>89.80</td>\n",
       "    </tr>\n",
       "    <tr>\n",
       "      <th>10000043</th>\n",
       "      <td>63</td>\n",
       "      <td>4</td>\n",
       "      <td>119.64</td>\n",
       "    </tr>\n",
       "  </tbody>\n",
       "</table>\n",
       "</div>"
      ],
      "text/plain": [
       "             recency  frequency  monetary\n",
       "customer_id                              \n",
       "10000000          23          1    200.00\n",
       "10000001         184          7    416.37\n",
       "10000021           5          5    395.45\n",
       "10000038         328          2     89.80\n",
       "10000043          63          4    119.64"
      ]
     },
     "execution_count": 69,
     "metadata": {},
     "output_type": "execute_result"
    }
   ],
   "source": [
    "# merge with monetary dataframe to get a table with the 3 columns\n",
    "\n",
    "rfm_df = temp_df.merge(monetary_df,on='customer_id')\n",
    "\n",
    "# use customer_id as index\n",
    "\n",
    "rfm_df.set_index('customer_id',inplace=True)\n",
    "\n",
    "# check the head\n",
    "\n",
    "rfm_df.head()"
   ]
  },
  {
   "cell_type": "code",
   "execution_count": 70,
   "id": "5e159267",
   "metadata": {},
   "outputs": [
    {
     "data": {
      "text/plain": [
       "Text(0.5, 1.0, 'Correlation between fearures')"
      ]
     },
     "execution_count": 70,
     "metadata": {},
     "output_type": "execute_result"
    },
    {
     "data": {
      "image/png": "[encoded data removed]",
      "text/plain": [
       "<Figure size 720x720 with 2 Axes>"
      ]
     },
     "metadata": {},
     "output_type": "display_data"
    }
   ],
   "source": [
    "correlation = rfm_df.corr()\n",
    "plt.figure(figsize=(10,10))\n",
    "sns.heatmap(correlation, vmax=1, square=True,annot=True)\n",
    "\n",
    "plt.title('Correlation between fearures')"
   ]
  },
  {
   "cell_type": "code",
   "execution_count": 71,
   "id": "dce785bc",
   "metadata": {},
   "outputs": [
    {
     "data": {
      "text/html": [
       "<div>\n",
       "<style scoped>\n",
       "    .dataframe tbody tr th:only-of-type {\n",
       "        vertical-align: middle;\n",
       "    }\n",
       "\n",
       "    .dataframe tbody tr th {\n",
       "        vertical-align: top;\n",
       "    }\n",
       "\n",
       "    .dataframe thead th {\n",
       "        text-align: right;\n",
       "    }\n",
       "</style>\n",
       "<table border=\"1\" class=\"dataframe\">\n",
       "  <thead>\n",
       "    <tr style=\"text-align: right;\">\n",
       "      <th></th>\n",
       "      <th>recency</th>\n",
       "      <th>frequency</th>\n",
       "      <th>monetary</th>\n",
       "    </tr>\n",
       "  </thead>\n",
       "  <tbody>\n",
       "    <tr>\n",
       "      <th>0.25</th>\n",
       "      <td>50.0</td>\n",
       "      <td>1.0</td>\n",
       "      <td>125.31</td>\n",
       "    </tr>\n",
       "    <tr>\n",
       "      <th>0.50</th>\n",
       "      <td>122.0</td>\n",
       "      <td>2.0</td>\n",
       "      <td>343.73</td>\n",
       "    </tr>\n",
       "    <tr>\n",
       "      <th>0.75</th>\n",
       "      <td>242.0</td>\n",
       "      <td>5.0</td>\n",
       "      <td>1134.69</td>\n",
       "    </tr>\n",
       "  </tbody>\n",
       "</table>\n",
       "</div>"
      ],
      "text/plain": [
       "      recency  frequency  monetary\n",
       "0.25     50.0        1.0    125.31\n",
       "0.50    122.0        2.0    343.73\n",
       "0.75    242.0        5.0   1134.69"
      ]
     },
     "execution_count": 71,
     "metadata": {},
     "output_type": "execute_result"
    }
   ],
   "source": [
    "quantiles = rfm_df.quantile(q=[0.25,0.5,0.75])\n",
    "quantiles"
   ]
  },
  {
   "cell_type": "code",
   "execution_count": 72,
   "id": "b6d98b99",
   "metadata": {},
   "outputs": [
    {
     "data": {
      "text/plain": [
       "{'recency': {0.25: 50.0, 0.5: 122.0, 0.75: 242.0},\n",
       " 'frequency': {0.25: 1.0, 0.5: 2.0, 0.75: 5.0},\n",
       " 'monetary': {0.25: 125.31, 0.5: 343.73, 0.75: 1134.69}}"
      ]
     },
     "execution_count": 72,
     "metadata": {},
     "output_type": "execute_result"
    }
   ],
   "source": [
    "quantiles.to_dict()"
   ]
  },
  {
   "cell_type": "code",
   "execution_count": 73,
   "id": "00b21856",
   "metadata": {},
   "outputs": [],
   "source": [
    "# Arguments (x = value, p = recency, monetary_value, frequency, d = quartiles dict)\n",
    "def RScore(x,p,d):\n",
    "    if x <= d[p][0.25]:\n",
    "        return 4\n",
    "    elif x <= d[p][0.50]:\n",
    "        return 3\n",
    "    elif x <= d[p][0.75]: \n",
    "        return 2\n",
    "    else:\n",
    "        return 1\n",
    "# Arguments (x = value, p = recency, monetary_value, frequency, k = quartiles dict)\n",
    "def FMScore(x,p,d):\n",
    "    if x <= d[p][0.25]:\n",
    "        return 1\n",
    "    elif x <= d[p][0.50]:\n",
    "        return 2\n",
    "    elif x <= d[p][0.75]: \n",
    "        return 3\n",
    "    else:\n",
    "        return 4"
   ]
  },
  {
   "cell_type": "code",
   "execution_count": 74,
   "id": "824681a4",
   "metadata": {},
   "outputs": [
    {
     "data": {
      "text/html": [
       "<div>\n",
       "<style scoped>\n",
       "    .dataframe tbody tr th:only-of-type {\n",
       "        vertical-align: middle;\n",
       "    }\n",
       "\n",
       "    .dataframe tbody tr th {\n",
       "        vertical-align: top;\n",
       "    }\n",
       "\n",
       "    .dataframe thead th {\n",
       "        text-align: right;\n",
       "    }\n",
       "</style>\n",
       "<table border=\"1\" class=\"dataframe\">\n",
       "  <thead>\n",
       "    <tr style=\"text-align: right;\">\n",
       "      <th></th>\n",
       "      <th>recency</th>\n",
       "      <th>frequency</th>\n",
       "      <th>monetary</th>\n",
       "      <th>recency_quartile</th>\n",
       "      <th>frequency_quartile</th>\n",
       "      <th>monetary_quartile</th>\n",
       "    </tr>\n",
       "    <tr>\n",
       "      <th>customer_id</th>\n",
       "      <th></th>\n",
       "      <th></th>\n",
       "      <th></th>\n",
       "      <th></th>\n",
       "      <th></th>\n",
       "      <th></th>\n",
       "    </tr>\n",
       "  </thead>\n",
       "  <tbody>\n",
       "    <tr>\n",
       "      <th>10000000</th>\n",
       "      <td>23</td>\n",
       "      <td>1</td>\n",
       "      <td>200.00</td>\n",
       "      <td>4</td>\n",
       "      <td>1</td>\n",
       "      <td>2</td>\n",
       "    </tr>\n",
       "    <tr>\n",
       "      <th>10000001</th>\n",
       "      <td>184</td>\n",
       "      <td>7</td>\n",
       "      <td>416.37</td>\n",
       "      <td>2</td>\n",
       "      <td>4</td>\n",
       "      <td>3</td>\n",
       "    </tr>\n",
       "    <tr>\n",
       "      <th>10000021</th>\n",
       "      <td>5</td>\n",
       "      <td>5</td>\n",
       "      <td>395.45</td>\n",
       "      <td>4</td>\n",
       "      <td>3</td>\n",
       "      <td>3</td>\n",
       "    </tr>\n",
       "    <tr>\n",
       "      <th>10000038</th>\n",
       "      <td>328</td>\n",
       "      <td>2</td>\n",
       "      <td>89.80</td>\n",
       "      <td>1</td>\n",
       "      <td>2</td>\n",
       "      <td>1</td>\n",
       "    </tr>\n",
       "    <tr>\n",
       "      <th>10000043</th>\n",
       "      <td>63</td>\n",
       "      <td>4</td>\n",
       "      <td>119.64</td>\n",
       "      <td>3</td>\n",
       "      <td>3</td>\n",
       "      <td>1</td>\n",
       "    </tr>\n",
       "  </tbody>\n",
       "</table>\n",
       "</div>"
      ],
      "text/plain": [
       "             recency  frequency  monetary  recency_quartile  \\\n",
       "customer_id                                                   \n",
       "10000000          23          1    200.00                 4   \n",
       "10000001         184          7    416.37                 2   \n",
       "10000021           5          5    395.45                 4   \n",
       "10000038         328          2     89.80                 1   \n",
       "10000043          63          4    119.64                 3   \n",
       "\n",
       "             frequency_quartile  monetary_quartile  \n",
       "customer_id                                         \n",
       "10000000                      1                  2  \n",
       "10000001                      4                  3  \n",
       "10000021                      3                  3  \n",
       "10000038                      2                  1  \n",
       "10000043                      3                  1  "
      ]
     },
     "execution_count": 74,
     "metadata": {},
     "output_type": "execute_result"
    }
   ],
   "source": [
    "#create rfm segmentation table\n",
    "rfm_segmentation = rfm_df\n",
    "rfm_segmentation['recency_quartile'] = rfm_segmentation['recency'].apply(RScore, args=('recency',quantiles,))\n",
    "rfm_segmentation['frequency_quartile'] = rfm_segmentation['frequency'].apply(FMScore, args=('frequency',quantiles,))\n",
    "rfm_segmentation['monetary_quartile'] = rfm_segmentation['monetary'].apply(FMScore, args=('monetary',quantiles,))\n",
    "\n",
    "rfm_segmentation.head()"
   ]
  },
  {
   "cell_type": "code",
   "execution_count": 75,
   "id": "c08913d5",
   "metadata": {},
   "outputs": [
    {
     "data": {
      "text/html": [
       "<div>\n",
       "<style scoped>\n",
       "    .dataframe tbody tr th:only-of-type {\n",
       "        vertical-align: middle;\n",
       "    }\n",
       "\n",
       "    .dataframe tbody tr th {\n",
       "        vertical-align: top;\n",
       "    }\n",
       "\n",
       "    .dataframe thead th {\n",
       "        text-align: right;\n",
       "    }\n",
       "</style>\n",
       "<table border=\"1\" class=\"dataframe\">\n",
       "  <thead>\n",
       "    <tr style=\"text-align: right;\">\n",
       "      <th></th>\n",
       "      <th>recency</th>\n",
       "      <th>frequency</th>\n",
       "      <th>monetary</th>\n",
       "      <th>recency_quartile</th>\n",
       "      <th>frequency_quartile</th>\n",
       "      <th>monetary_quartile</th>\n",
       "      <th>RFM_score</th>\n",
       "    </tr>\n",
       "    <tr>\n",
       "      <th>customer_id</th>\n",
       "      <th></th>\n",
       "      <th></th>\n",
       "      <th></th>\n",
       "      <th></th>\n",
       "      <th></th>\n",
       "      <th></th>\n",
       "      <th></th>\n",
       "    </tr>\n",
       "  </thead>\n",
       "  <tbody>\n",
       "    <tr>\n",
       "      <th>10000000</th>\n",
       "      <td>23</td>\n",
       "      <td>1</td>\n",
       "      <td>200.00</td>\n",
       "      <td>4</td>\n",
       "      <td>1</td>\n",
       "      <td>2</td>\n",
       "      <td>412</td>\n",
       "    </tr>\n",
       "    <tr>\n",
       "      <th>10000001</th>\n",
       "      <td>184</td>\n",
       "      <td>7</td>\n",
       "      <td>416.37</td>\n",
       "      <td>2</td>\n",
       "      <td>4</td>\n",
       "      <td>3</td>\n",
       "      <td>243</td>\n",
       "    </tr>\n",
       "    <tr>\n",
       "      <th>10000021</th>\n",
       "      <td>5</td>\n",
       "      <td>5</td>\n",
       "      <td>395.45</td>\n",
       "      <td>4</td>\n",
       "      <td>3</td>\n",
       "      <td>3</td>\n",
       "      <td>433</td>\n",
       "    </tr>\n",
       "    <tr>\n",
       "      <th>10000038</th>\n",
       "      <td>328</td>\n",
       "      <td>2</td>\n",
       "      <td>89.80</td>\n",
       "      <td>1</td>\n",
       "      <td>2</td>\n",
       "      <td>1</td>\n",
       "      <td>121</td>\n",
       "    </tr>\n",
       "    <tr>\n",
       "      <th>10000043</th>\n",
       "      <td>63</td>\n",
       "      <td>4</td>\n",
       "      <td>119.64</td>\n",
       "      <td>3</td>\n",
       "      <td>3</td>\n",
       "      <td>1</td>\n",
       "      <td>331</td>\n",
       "    </tr>\n",
       "  </tbody>\n",
       "</table>\n",
       "</div>"
      ],
      "text/plain": [
       "             recency  frequency  monetary  recency_quartile  \\\n",
       "customer_id                                                   \n",
       "10000000          23          1    200.00                 4   \n",
       "10000001         184          7    416.37                 2   \n",
       "10000021           5          5    395.45                 4   \n",
       "10000038         328          2     89.80                 1   \n",
       "10000043          63          4    119.64                 3   \n",
       "\n",
       "             frequency_quartile  monetary_quartile RFM_score  \n",
       "customer_id                                                   \n",
       "10000000                      1                  2       412  \n",
       "10000001                      4                  3       243  \n",
       "10000021                      3                  3       433  \n",
       "10000038                      2                  1       121  \n",
       "10000043                      3                  1       331  "
      ]
     },
     "execution_count": 75,
     "metadata": {},
     "output_type": "execute_result"
    }
   ],
   "source": [
    "#RFM Score\n",
    "\n",
    "rfm_segmentation['RFM_score'] = rfm_segmentation.recency_quartile.map(str) \\\n",
    "                            + rfm_segmentation.frequency_quartile.map(str) \\\n",
    "                            + rfm_segmentation.monetary_quartile.map(str)\n",
    "rfm_segmentation.head()"
   ]
  },
  {
   "cell_type": "code",
   "execution_count": 76,
   "id": "ae1b595d",
   "metadata": {},
   "outputs": [
    {
     "data": {
      "text/html": [
       "<div>\n",
       "<style scoped>\n",
       "    .dataframe tbody tr th:only-of-type {\n",
       "        vertical-align: middle;\n",
       "    }\n",
       "\n",
       "    .dataframe tbody tr th {\n",
       "        vertical-align: top;\n",
       "    }\n",
       "\n",
       "    .dataframe thead th {\n",
       "        text-align: right;\n",
       "    }\n",
       "</style>\n",
       "<table border=\"1\" class=\"dataframe\">\n",
       "  <thead>\n",
       "    <tr style=\"text-align: right;\">\n",
       "      <th></th>\n",
       "      <th>recency</th>\n",
       "      <th>frequency</th>\n",
       "      <th>monetary</th>\n",
       "      <th>recency_quartile</th>\n",
       "      <th>frequency_quartile</th>\n",
       "      <th>monetary_quartile</th>\n",
       "      <th>RFM_score</th>\n",
       "    </tr>\n",
       "    <tr>\n",
       "      <th>customer_id</th>\n",
       "      <th></th>\n",
       "      <th></th>\n",
       "      <th></th>\n",
       "      <th></th>\n",
       "      <th></th>\n",
       "      <th></th>\n",
       "      <th></th>\n",
       "    </tr>\n",
       "  </thead>\n",
       "  <tbody>\n",
       "    <tr>\n",
       "      <th>24932499</th>\n",
       "      <td>293</td>\n",
       "      <td>3</td>\n",
       "      <td>4026279.16</td>\n",
       "      <td>1</td>\n",
       "      <td>3</td>\n",
       "      <td>4</td>\n",
       "      <td>134</td>\n",
       "    </tr>\n",
       "    <tr>\n",
       "      <th>22901251</th>\n",
       "      <td>345</td>\n",
       "      <td>4</td>\n",
       "      <td>3339466.70</td>\n",
       "      <td>1</td>\n",
       "      <td>3</td>\n",
       "      <td>4</td>\n",
       "      <td>134</td>\n",
       "    </tr>\n",
       "    <tr>\n",
       "      <th>2036361</th>\n",
       "      <td>335</td>\n",
       "      <td>3</td>\n",
       "      <td>799676.50</td>\n",
       "      <td>1</td>\n",
       "      <td>3</td>\n",
       "      <td>4</td>\n",
       "      <td>134</td>\n",
       "    </tr>\n",
       "    <tr>\n",
       "      <th>10516751</th>\n",
       "      <td>261</td>\n",
       "      <td>4</td>\n",
       "      <td>792787.68</td>\n",
       "      <td>1</td>\n",
       "      <td>3</td>\n",
       "      <td>4</td>\n",
       "      <td>134</td>\n",
       "    </tr>\n",
       "    <tr>\n",
       "      <th>7800019</th>\n",
       "      <td>314</td>\n",
       "      <td>8</td>\n",
       "      <td>729242.00</td>\n",
       "      <td>1</td>\n",
       "      <td>4</td>\n",
       "      <td>4</td>\n",
       "      <td>144</td>\n",
       "    </tr>\n",
       "  </tbody>\n",
       "</table>\n",
       "</div>"
      ],
      "text/plain": [
       "             recency  frequency    monetary  recency_quartile  \\\n",
       "customer_id                                                     \n",
       "24932499         293          3  4026279.16                 1   \n",
       "22901251         345          4  3339466.70                 1   \n",
       "2036361          335          3   799676.50                 1   \n",
       "10516751         261          4   792787.68                 1   \n",
       "7800019          314          8   729242.00                 1   \n",
       "\n",
       "             frequency_quartile  monetary_quartile RFM_score  \n",
       "customer_id                                                   \n",
       "24932499                      3                  4       134  \n",
       "22901251                      3                  4       134  \n",
       "2036361                       3                  4       134  \n",
       "10516751                      3                  4       134  \n",
       "7800019                       4                  4       144  "
      ]
     },
     "execution_count": 76,
     "metadata": {},
     "output_type": "execute_result"
    }
   ],
   "source": [
    "#Which customers are at the verge of churning?\n",
    "\n",
    "#Customers who's recency value is low\n",
    "\n",
    "rfm_segmentation[rfm_segmentation['recency_quartile'] < 2 ].sort_values('monetary', ascending=False).head()"
   ]
  },
  {
   "cell_type": "code",
   "execution_count": 77,
   "id": "35c74c9b",
   "metadata": {},
   "outputs": [
    {
     "data": {
      "text/html": [
       "<div>\n",
       "<style scoped>\n",
       "    .dataframe tbody tr th:only-of-type {\n",
       "        vertical-align: middle;\n",
       "    }\n",
       "\n",
       "    .dataframe tbody tr th {\n",
       "        vertical-align: top;\n",
       "    }\n",
       "\n",
       "    .dataframe thead th {\n",
       "        text-align: right;\n",
       "    }\n",
       "</style>\n",
       "<table border=\"1\" class=\"dataframe\">\n",
       "  <thead>\n",
       "    <tr style=\"text-align: right;\">\n",
       "      <th></th>\n",
       "      <th>recency</th>\n",
       "      <th>frequency</th>\n",
       "      <th>monetary</th>\n",
       "      <th>recency_quartile</th>\n",
       "      <th>frequency_quartile</th>\n",
       "      <th>monetary_quartile</th>\n",
       "      <th>RFM_score</th>\n",
       "    </tr>\n",
       "    <tr>\n",
       "      <th>customer_id</th>\n",
       "      <th></th>\n",
       "      <th></th>\n",
       "      <th></th>\n",
       "      <th></th>\n",
       "      <th></th>\n",
       "      <th></th>\n",
       "      <th></th>\n",
       "    </tr>\n",
       "  </thead>\n",
       "  <tbody>\n",
       "    <tr>\n",
       "      <th>4373642</th>\n",
       "      <td>365</td>\n",
       "      <td>1</td>\n",
       "      <td>89.99</td>\n",
       "      <td>1</td>\n",
       "      <td>1</td>\n",
       "      <td>1</td>\n",
       "      <td>111</td>\n",
       "    </tr>\n",
       "    <tr>\n",
       "      <th>6233584</th>\n",
       "      <td>365</td>\n",
       "      <td>1</td>\n",
       "      <td>19.80</td>\n",
       "      <td>1</td>\n",
       "      <td>1</td>\n",
       "      <td>1</td>\n",
       "      <td>111</td>\n",
       "    </tr>\n",
       "    <tr>\n",
       "      <th>4805716</th>\n",
       "      <td>365</td>\n",
       "      <td>1</td>\n",
       "      <td>86.90</td>\n",
       "      <td>1</td>\n",
       "      <td>1</td>\n",
       "      <td>1</td>\n",
       "      <td>111</td>\n",
       "    </tr>\n",
       "    <tr>\n",
       "      <th>4806138</th>\n",
       "      <td>365</td>\n",
       "      <td>1</td>\n",
       "      <td>68.90</td>\n",
       "      <td>1</td>\n",
       "      <td>1</td>\n",
       "      <td>1</td>\n",
       "      <td>111</td>\n",
       "    </tr>\n",
       "    <tr>\n",
       "      <th>23553485</th>\n",
       "      <td>365</td>\n",
       "      <td>1</td>\n",
       "      <td>34.20</td>\n",
       "      <td>1</td>\n",
       "      <td>1</td>\n",
       "      <td>1</td>\n",
       "      <td>111</td>\n",
       "    </tr>\n",
       "  </tbody>\n",
       "</table>\n",
       "</div>"
      ],
      "text/plain": [
       "             recency  frequency  monetary  recency_quartile  \\\n",
       "customer_id                                                   \n",
       "4373642          365          1     89.99                 1   \n",
       "6233584          365          1     19.80                 1   \n",
       "4805716          365          1     86.90                 1   \n",
       "4806138          365          1     68.90                 1   \n",
       "23553485         365          1     34.20                 1   \n",
       "\n",
       "             frequency_quartile  monetary_quartile RFM_score  \n",
       "customer_id                                                   \n",
       "4373642                       1                  1       111  \n",
       "6233584                       1                  1       111  \n",
       "4805716                       1                  1       111  \n",
       "4806138                       1                  1       111  \n",
       "23553485                      1                  1       111  "
      ]
     },
     "execution_count": 77,
     "metadata": {},
     "output_type": "execute_result"
    }
   ],
   "source": [
    "#Customers who's recency, frequency as well as monetary values are low \n",
    "\n",
    "rfm_segmentation[rfm_segmentation['RFM_score'] == '111'].sort_values('recency',ascending=False).head()"
   ]
  },
  {
   "cell_type": "code",
   "execution_count": 78,
   "id": "a0c9484f",
   "metadata": {},
   "outputs": [
    {
     "data": {
      "text/html": [
       "<div>\n",
       "<style scoped>\n",
       "    .dataframe tbody tr th:only-of-type {\n",
       "        vertical-align: middle;\n",
       "    }\n",
       "\n",
       "    .dataframe tbody tr th {\n",
       "        vertical-align: top;\n",
       "    }\n",
       "\n",
       "    .dataframe thead th {\n",
       "        text-align: right;\n",
       "    }\n",
       "</style>\n",
       "<table border=\"1\" class=\"dataframe\">\n",
       "  <thead>\n",
       "    <tr style=\"text-align: right;\">\n",
       "      <th></th>\n",
       "      <th>recency</th>\n",
       "      <th>frequency</th>\n",
       "      <th>monetary</th>\n",
       "      <th>recency_quartile</th>\n",
       "      <th>frequency_quartile</th>\n",
       "      <th>monetary_quartile</th>\n",
       "      <th>RFM_score</th>\n",
       "    </tr>\n",
       "    <tr>\n",
       "      <th>customer_id</th>\n",
       "      <th></th>\n",
       "      <th></th>\n",
       "      <th></th>\n",
       "      <th></th>\n",
       "      <th></th>\n",
       "      <th></th>\n",
       "      <th></th>\n",
       "    </tr>\n",
       "  </thead>\n",
       "  <tbody>\n",
       "    <tr>\n",
       "      <th>2159128</th>\n",
       "      <td>30</td>\n",
       "      <td>55</td>\n",
       "      <td>33884465.85</td>\n",
       "      <td>4</td>\n",
       "      <td>4</td>\n",
       "      <td>4</td>\n",
       "      <td>444</td>\n",
       "    </tr>\n",
       "    <tr>\n",
       "      <th>6406658</th>\n",
       "      <td>8</td>\n",
       "      <td>47</td>\n",
       "      <td>15388680.41</td>\n",
       "      <td>4</td>\n",
       "      <td>4</td>\n",
       "      <td>4</td>\n",
       "      <td>444</td>\n",
       "    </tr>\n",
       "    <tr>\n",
       "      <th>3732371</th>\n",
       "      <td>126</td>\n",
       "      <td>5</td>\n",
       "      <td>11800915.55</td>\n",
       "      <td>2</td>\n",
       "      <td>3</td>\n",
       "      <td>4</td>\n",
       "      <td>234</td>\n",
       "    </tr>\n",
       "    <tr>\n",
       "      <th>5437727</th>\n",
       "      <td>9</td>\n",
       "      <td>124</td>\n",
       "      <td>11287677.80</td>\n",
       "      <td>4</td>\n",
       "      <td>4</td>\n",
       "      <td>4</td>\n",
       "      <td>444</td>\n",
       "    </tr>\n",
       "    <tr>\n",
       "      <th>5413927</th>\n",
       "      <td>2</td>\n",
       "      <td>56</td>\n",
       "      <td>8702577.07</td>\n",
       "      <td>4</td>\n",
       "      <td>4</td>\n",
       "      <td>4</td>\n",
       "      <td>444</td>\n",
       "    </tr>\n",
       "  </tbody>\n",
       "</table>\n",
       "</div>"
      ],
      "text/plain": [
       "             recency  frequency     monetary  recency_quartile  \\\n",
       "customer_id                                                      \n",
       "2159128           30         55  33884465.85                 4   \n",
       "6406658            8         47  15388680.41                 4   \n",
       "3732371          126          5  11800915.55                 2   \n",
       "5437727            9        124  11287677.80                 4   \n",
       "5413927            2         56   8702577.07                 4   \n",
       "\n",
       "             frequency_quartile  monetary_quartile RFM_score  \n",
       "customer_id                                                   \n",
       "2159128                       4                  4       444  \n",
       "6406658                       4                  4       444  \n",
       "3732371                       3                  4       234  \n",
       "5437727                       4                  4       444  \n",
       "5413927                       4                  4       444  "
      ]
     },
     "execution_count": 78,
     "metadata": {},
     "output_type": "execute_result"
    }
   ],
   "source": [
    "#Customers with high frequency value\n",
    "\n",
    "rfm_segmentation[rfm_segmentation['frequency_quartile'] >= 3 ].sort_values('monetary', ascending=False).head()"
   ]
  },
  {
   "cell_type": "code",
   "execution_count": 79,
   "id": "84a3d91b",
   "metadata": {},
   "outputs": [],
   "source": [
    "# We will use the Recency and Frequency scores for customer segmentation. \n",
    "# We assume that a customer who has made a recent and frequent purchase should have a high RFM score.\n",
    "# For this reason, we create a column named RFM_segment.\n",
    "\n",
    "rfm_segmentation['RFM_segment'] = (rfm_segmentation['recency_quartile'].astype(str)+ rfm_segmentation['frequency_quartile'].astype(str))"
   ]
  },
  {
   "cell_type": "code",
   "execution_count": 80,
   "id": "6497976f",
   "metadata": {},
   "outputs": [
    {
     "data": {
      "text/html": [
       "<div>\n",
       "<style scoped>\n",
       "    .dataframe tbody tr th:only-of-type {\n",
       "        vertical-align: middle;\n",
       "    }\n",
       "\n",
       "    .dataframe tbody tr th {\n",
       "        vertical-align: top;\n",
       "    }\n",
       "\n",
       "    .dataframe thead th {\n",
       "        text-align: right;\n",
       "    }\n",
       "</style>\n",
       "<table border=\"1\" class=\"dataframe\">\n",
       "  <thead>\n",
       "    <tr style=\"text-align: right;\">\n",
       "      <th></th>\n",
       "      <th>recency</th>\n",
       "      <th>frequency</th>\n",
       "      <th>monetary</th>\n",
       "      <th>recency_quartile</th>\n",
       "      <th>frequency_quartile</th>\n",
       "      <th>monetary_quartile</th>\n",
       "      <th>RFM_score</th>\n",
       "      <th>RFM_segment</th>\n",
       "    </tr>\n",
       "    <tr>\n",
       "      <th>customer_id</th>\n",
       "      <th></th>\n",
       "      <th></th>\n",
       "      <th></th>\n",
       "      <th></th>\n",
       "      <th></th>\n",
       "      <th></th>\n",
       "      <th></th>\n",
       "      <th></th>\n",
       "    </tr>\n",
       "  </thead>\n",
       "  <tbody>\n",
       "    <tr>\n",
       "      <th>10000000</th>\n",
       "      <td>23</td>\n",
       "      <td>1</td>\n",
       "      <td>200.00</td>\n",
       "      <td>4</td>\n",
       "      <td>1</td>\n",
       "      <td>2</td>\n",
       "      <td>412</td>\n",
       "      <td>New Customers</td>\n",
       "    </tr>\n",
       "    <tr>\n",
       "      <th>10000001</th>\n",
       "      <td>184</td>\n",
       "      <td>7</td>\n",
       "      <td>416.37</td>\n",
       "      <td>2</td>\n",
       "      <td>4</td>\n",
       "      <td>3</td>\n",
       "      <td>243</td>\n",
       "      <td>Loyal Customers</td>\n",
       "    </tr>\n",
       "    <tr>\n",
       "      <th>10000021</th>\n",
       "      <td>5</td>\n",
       "      <td>5</td>\n",
       "      <td>395.45</td>\n",
       "      <td>4</td>\n",
       "      <td>3</td>\n",
       "      <td>3</td>\n",
       "      <td>433</td>\n",
       "      <td>Champions</td>\n",
       "    </tr>\n",
       "    <tr>\n",
       "      <th>10000038</th>\n",
       "      <td>328</td>\n",
       "      <td>2</td>\n",
       "      <td>89.80</td>\n",
       "      <td>1</td>\n",
       "      <td>2</td>\n",
       "      <td>1</td>\n",
       "      <td>121</td>\n",
       "      <td>At Risk</td>\n",
       "    </tr>\n",
       "    <tr>\n",
       "      <th>10000043</th>\n",
       "      <td>63</td>\n",
       "      <td>4</td>\n",
       "      <td>119.64</td>\n",
       "      <td>3</td>\n",
       "      <td>3</td>\n",
       "      <td>1</td>\n",
       "      <td>331</td>\n",
       "      <td>Loyal Customers</td>\n",
       "    </tr>\n",
       "  </tbody>\n",
       "</table>\n",
       "</div>"
      ],
      "text/plain": [
       "             recency  frequency  monetary  recency_quartile  \\\n",
       "customer_id                                                   \n",
       "10000000          23          1    200.00                 4   \n",
       "10000001         184          7    416.37                 2   \n",
       "10000021           5          5    395.45                 4   \n",
       "10000038         328          2     89.80                 1   \n",
       "10000043          63          4    119.64                 3   \n",
       "\n",
       "             frequency_quartile  monetary_quartile RFM_score      RFM_segment  \n",
       "customer_id                                                                    \n",
       "10000000                      1                  2       412    New Customers  \n",
       "10000001                      4                  3       243  Loyal Customers  \n",
       "10000021                      3                  3       433        Champions  \n",
       "10000038                      2                  1       121          At Risk  \n",
       "10000043                      3                  1       331  Loyal Customers  "
      ]
     },
     "execution_count": 80,
     "metadata": {},
     "output_type": "execute_result"
    }
   ],
   "source": [
    "seg_map = {\n",
    "    r'11': 'Hibernating',\n",
    "    r'1[2-3]': 'At Risk',\n",
    "    r'14': 'Can\\'t Loose',\n",
    "    r'21': 'About to Sleep',\n",
    "    r'22': 'Need Attention',\n",
    "    r'[2-3][3-4]': 'Loyal Customers',\n",
    "    r'31': 'Promising',\n",
    "    r'41': 'New Customers',\n",
    "    r'[3-4]2': 'Potential Loyalists',\n",
    "    r'4[3-4]': 'Champions'\n",
    "}\n",
    "\n",
    "rfm_segmentation['RFM_segment'] = rfm_segmentation['RFM_segment'].replace(seg_map, regex=True)\n",
    "rfm_segmentation.head(5)"
   ]
  },
  {
   "cell_type": "code",
   "execution_count": 81,
   "id": "be68fbf7",
   "metadata": {},
   "outputs": [
    {
     "data": {
      "image/png": "[encoded data removed]",
      "text/plain": [
       "<Figure size 504x504 with 1 Axes>"
      ]
     },
     "metadata": {},
     "output_type": "display_data"
    }
   ],
   "source": [
    "segments_counts = rfm_segmentation['RFM_segment'].value_counts().sort_values(ascending=True)\n",
    "\n",
    "fig, ax = plt.subplots()\n",
    "\n",
    "bars = ax.barh(range(len(segments_counts)),\n",
    "              segments_counts,\n",
    "              color='silver')\n",
    "ax.set_frame_on(False)\n",
    "ax.tick_params(left=False,\n",
    "               bottom=False,\n",
    "               labelbottom=False)\n",
    "ax.set_yticks(range(len(segments_counts)))\n",
    "ax.set_yticklabels(segments_counts.index)\n",
    "\n",
    "for i, bar in enumerate(bars):\n",
    "        value = bar.get_width()\n",
    "        if segments_counts.index[i] in ['Can\\'t loose']:\n",
    "            bar.set_color('firebrick')\n",
    "        ax.text(value,\n",
    "                bar.get_y() + bar.get_height()/2,\n",
    "                '{:,} ({:}%)'.format(int(value),\n",
    "                                   int(value*100/segments_counts.sum())),\n",
    "                va='center',\n",
    "                ha='left'\n",
    "               )\n",
    "\n",
    "plt.show()"
   ]
  },
  {
   "cell_type": "code",
   "execution_count": 82,
   "id": "d797f21a",
   "metadata": {},
   "outputs": [
    {
     "name": "stdout",
     "output_type": "stream",
     "text": [
      "                    recency frequency monetary        \n",
      "                       mean      mean     mean   count\n",
      "RFM_segment                                           \n",
      "About to Sleep        189.9       1.0    475.9  262658\n",
      "At Risk               297.4       2.8    762.9  277267\n",
      "Can't Loose           288.3       9.7   1842.3   48266\n",
      "Champions              22.5      14.9   5749.1  495295\n",
      "Hibernating           306.1       1.0    388.5  377097\n",
      "Loyal Customers       127.9       7.8   2367.7  679479\n",
      "Need Attention        188.4       2.0    724.4  142831\n",
      "New Customers          25.7       1.0    781.0  129309\n",
      "Potential Loyalists    58.8       2.0    992.3  210138\n",
      "Promising              82.3       1.0    544.3  216157\n"
     ]
    }
   ],
   "source": [
    "# Calculate average values for each RFM_Level, and return a size of each segment \n",
    "rfm_level_agg = rfm_df.groupby('RFM_segment').agg({\n",
    "    'recency': 'mean',\n",
    "    'frequency': 'mean',\n",
    "    'monetary': ['mean', 'count']}).round(1)\n",
    "# Print the aggregated dataset\n",
    "print(rfm_level_agg)"
   ]
  },
  {
   "cell_type": "code",
   "execution_count": 83,
   "id": "182276e4",
   "metadata": {},
   "outputs": [
    {
     "data": {
      "image/png": "[encoded data removed]",
      "text/plain": [
       "<Figure size 2880x2160 with 1 Axes>"
      ]
     },
     "metadata": {},
     "output_type": "display_data"
    }
   ],
   "source": [
    "rfm_level_agg.columns = rfm_level_agg.columns.droplevel()\n",
    "rfm_level_agg.columns = ['RecencyMean','FrequencyMean','MonetaryMean', 'Count']\n",
    "\n",
    "#Create our plot and resize it.\n",
    "\n",
    "origin_counts = rfm_df.groupby('RFM_segment').size().reset_index(name='counts')\n",
    "labels= list(zip(origin_counts.RFM_segment, origin_counts.counts))\n",
    "\n",
    "fig = plt.gcf()\n",
    "ax = fig.add_subplot()\n",
    "fig.set_size_inches(40, 30)\n",
    "squarify.plot(sizes=rfm_level_agg['Count'], \n",
    "              label=labels, alpha=.51,\n",
    "              text_kwargs={'fontsize':20, 'fontname':\"Times New Roman\",'weight':'bold'})\n",
    "plt.title(\"RFM Segments\",fontsize=35,fontweight=\"bold\")\n",
    "plt.axis('off')\n",
    "plt.show()"
   ]
  }
 ],
 "metadata": {
  "kernelspec": {
   "display_name": "Python 3 (ipykernel)",
   "language": "python",
   "name": "python3"
  },
  "language_info": {
   "codemirror_mode": {
    "name": "ipython",
    "version": 3
   },
   "file_extension": ".py",
   "mimetype": "text/x-python",
   "name": "python",
   "nbconvert_exporter": "python",
   "pygments_lexer": "ipython3",
   "version": "3.9.7"
  }
 },
 "nbformat": 4,
 "nbformat_minor": 5
}
